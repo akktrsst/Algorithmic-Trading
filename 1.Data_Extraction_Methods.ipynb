{
 "cells": [
  {
   "cell_type": "markdown",
   "id": "ce926b9b-ff3c-456e-96fa-b630193dc3b6",
   "metadata": {},
   "source": [
    "## Data Extraction Methods"
   ]
  },
  {
   "cell_type": "markdown",
   "id": "759c7622-6feb-41d8-842c-01099b0fd1fd",
   "metadata": {
    "tags": []
   },
   "source": [
    "#### Extract Data using yfinance"
   ]
  },
  {
   "cell_type": "code",
   "execution_count": 40,
   "id": "743af57b-1f7c-4267-8d44-21bd0ec5ce48",
   "metadata": {
    "tags": []
   },
   "outputs": [],
   "source": [
    "# pip install yfinance"
   ]
  },
  {
   "cell_type": "code",
   "execution_count": 14,
   "id": "603cfdf8-4404-4572-a5a4-6e91d852990f",
   "metadata": {
    "tags": []
   },
   "outputs": [
    {
     "name": "stdout",
     "output_type": "stream",
     "text": [
      "[*********************100%%**********************]  1 of 1 completed\n",
      "[*********************100%%**********************]  1 of 1 completed\n",
      "[*********************100%%**********************]  1 of 1 completed\n"
     ]
    }
   ],
   "source": [
    "import yfinance as yf # This use API to extract data from yahoofinancials\n",
    "# get ohlcv data for any ticker by period.\n",
    "data1 = yf.download(\"MSFT\", period='1mo', interval=\"5m\")\n",
    "# get ohlcv data for any ticker by start date and end date\n",
    "data2 = yf.download(\"MSFT\", start=\"2017-01-01\", end=\"2020-04-24\")\n",
    "# get intraday data for any ticker by period.\n",
    "data3 = yf.download(\"MSFT\", period='1mo', interval=\"5m\")"
   ]
  },
  {
   "cell_type": "code",
   "execution_count": 12,
   "id": "21a9c704-c18d-41a5-9ee3-b90cd2262f7b",
   "metadata": {
    "tags": []
   },
   "outputs": [
    {
     "data": {
      "text/html": [
       "<div>\n",
       "<style scoped>\n",
       "    .dataframe tbody tr th:only-of-type {\n",
       "        vertical-align: middle;\n",
       "    }\n",
       "\n",
       "    .dataframe tbody tr th {\n",
       "        vertical-align: top;\n",
       "    }\n",
       "\n",
       "    .dataframe thead th {\n",
       "        text-align: right;\n",
       "    }\n",
       "</style>\n",
       "<table border=\"1\" class=\"dataframe\">\n",
       "  <thead>\n",
       "    <tr style=\"text-align: right;\">\n",
       "      <th></th>\n",
       "      <th>Open</th>\n",
       "      <th>High</th>\n",
       "      <th>Low</th>\n",
       "      <th>Close</th>\n",
       "      <th>Adj Close</th>\n",
       "      <th>Volume</th>\n",
       "    </tr>\n",
       "    <tr>\n",
       "      <th>Datetime</th>\n",
       "      <th></th>\n",
       "      <th></th>\n",
       "      <th></th>\n",
       "      <th></th>\n",
       "      <th></th>\n",
       "      <th></th>\n",
       "    </tr>\n",
       "  </thead>\n",
       "  <tbody>\n",
       "    <tr>\n",
       "      <th>2023-11-14 09:30:00-05:00</th>\n",
       "      <td>371.010010</td>\n",
       "      <td>371.679993</td>\n",
       "      <td>369.320007</td>\n",
       "      <td>370.165009</td>\n",
       "      <td>370.165009</td>\n",
       "      <td>1901916</td>\n",
       "    </tr>\n",
       "    <tr>\n",
       "      <th>2023-11-14 09:35:00-05:00</th>\n",
       "      <td>370.195007</td>\n",
       "      <td>370.869995</td>\n",
       "      <td>369.570007</td>\n",
       "      <td>370.309998</td>\n",
       "      <td>370.309998</td>\n",
       "      <td>595481</td>\n",
       "    </tr>\n",
       "    <tr>\n",
       "      <th>2023-11-14 09:40:00-05:00</th>\n",
       "      <td>370.379486</td>\n",
       "      <td>371.381195</td>\n",
       "      <td>369.640015</td>\n",
       "      <td>371.220001</td>\n",
       "      <td>371.220001</td>\n",
       "      <td>604089</td>\n",
       "    </tr>\n",
       "    <tr>\n",
       "      <th>2023-11-14 09:45:00-05:00</th>\n",
       "      <td>371.204987</td>\n",
       "      <td>371.450012</td>\n",
       "      <td>370.301788</td>\n",
       "      <td>370.301788</td>\n",
       "      <td>370.301788</td>\n",
       "      <td>430732</td>\n",
       "    </tr>\n",
       "    <tr>\n",
       "      <th>2023-11-14 09:50:00-05:00</th>\n",
       "      <td>370.380005</td>\n",
       "      <td>371.239990</td>\n",
       "      <td>370.350006</td>\n",
       "      <td>370.690002</td>\n",
       "      <td>370.690002</td>\n",
       "      <td>384981</td>\n",
       "    </tr>\n",
       "  </tbody>\n",
       "</table>\n",
       "</div>"
      ],
      "text/plain": [
       "                                 Open        High         Low       Close  \\\n",
       "Datetime                                                                    \n",
       "2023-11-14 09:30:00-05:00  371.010010  371.679993  369.320007  370.165009   \n",
       "2023-11-14 09:35:00-05:00  370.195007  370.869995  369.570007  370.309998   \n",
       "2023-11-14 09:40:00-05:00  370.379486  371.381195  369.640015  371.220001   \n",
       "2023-11-14 09:45:00-05:00  371.204987  371.450012  370.301788  370.301788   \n",
       "2023-11-14 09:50:00-05:00  370.380005  371.239990  370.350006  370.690002   \n",
       "\n",
       "                            Adj Close   Volume  \n",
       "Datetime                                        \n",
       "2023-11-14 09:30:00-05:00  370.165009  1901916  \n",
       "2023-11-14 09:35:00-05:00  370.309998   595481  \n",
       "2023-11-14 09:40:00-05:00  371.220001   604089  \n",
       "2023-11-14 09:45:00-05:00  370.301788   430732  \n",
       "2023-11-14 09:50:00-05:00  370.690002   384981  "
      ]
     },
     "execution_count": 12,
     "metadata": {},
     "output_type": "execute_result"
    }
   ],
   "source": [
    "data3.head()"
   ]
  },
  {
   "cell_type": "raw",
   "id": "d6b31f1a-d145-4ca7-ae8d-1b98a490d721",
   "metadata": {},
   "source": [
    "Note: We can get intraday data for period of 60 days."
   ]
  },
  {
   "cell_type": "code",
   "execution_count": 16,
   "id": "e08bd209-02d3-41d4-ad35-3fc7ba1a589f",
   "metadata": {
    "tags": []
   },
   "outputs": [
    {
     "name": "stdout",
     "output_type": "stream",
     "text": [
      "[*********************100%%**********************]  1 of 1 completed"
     ]
    },
    {
     "name": "stderr",
     "output_type": "stream",
     "text": [
      "\n",
      "1 Failed download:\n",
      "['MSFT']: Exception('%ticker%: 5m data not available for startTime=1686489985 and endTime=1702560385. The requested range must be within the last 60 days.')\n"
     ]
    },
    {
     "name": "stdout",
     "output_type": "stream",
     "text": [
      "\n"
     ]
    }
   ],
   "source": [
    "data = yf.download(\"MSFT\", period='6mo', interval=\"5m\")"
   ]
  },
  {
   "cell_type": "markdown",
   "id": "e5e1d06b-f674-4d70-bed3-8ee00826805c",
   "metadata": {},
   "source": [
    "#### Getting Data for Multiple Stocks"
   ]
  },
  {
   "cell_type": "code",
   "execution_count": 20,
   "id": "7105144c-cde5-4568-a0e4-5a1a9180a32a",
   "metadata": {
    "tags": []
   },
   "outputs": [],
   "source": [
    "import datetime as dt\n",
    "import yfinance as yf\n",
    "import pandas as pd"
   ]
  },
  {
   "cell_type": "code",
   "execution_count": 21,
   "id": "b42a1e0b-ffba-4ad7-9d9e-c8992a790888",
   "metadata": {
    "tags": []
   },
   "outputs": [
    {
     "name": "stdout",
     "output_type": "stream",
     "text": [
      "[*********************100%%**********************]  1 of 1 completed\n",
      "[*********************100%%**********************]  1 of 1 completed\n",
      "[*********************100%%**********************]  1 of 1 completed\n",
      "[*********************100%%**********************]  1 of 1 completed\n",
      "[*********************100%%**********************]  1 of 1 completed\n",
      "[*********************100%%**********************]  1 of 1 completed\n"
     ]
    }
   ],
   "source": [
    "## Indian stocks end with suffixs of .NS\n",
    "stocks = [\"AMZN\", \"MSFT\", \"INTC\", \"GOOG\", \"INFY.NS\", \"3988.HK\"] ## For these tickers, we want data\n",
    "start = dt.datetime.today()-dt.timedelta(30) ## Want to get 30 days back data from today\n",
    "end = dt.datetime.today()\n",
    "cl_price = pd.DataFrame() # Empty dataframe which will be filled with closing prices for all the stocks\n",
    "## Looking over tickers and creating a datafram with close prices\n",
    "for ticker in stocks:\n",
    "    cl_price[ticker] = yf.download(ticker, start, end)[\"Adj Close\"]"
   ]
  },
  {
   "cell_type": "code",
   "execution_count": 23,
   "id": "b7f0cc71-bdde-4e3c-9f9c-53d013ea4226",
   "metadata": {
    "tags": []
   },
   "outputs": [
    {
     "data": {
      "text/html": [
       "<div>\n",
       "<style scoped>\n",
       "    .dataframe tbody tr th:only-of-type {\n",
       "        vertical-align: middle;\n",
       "    }\n",
       "\n",
       "    .dataframe tbody tr th {\n",
       "        vertical-align: top;\n",
       "    }\n",
       "\n",
       "    .dataframe thead th {\n",
       "        text-align: right;\n",
       "    }\n",
       "</style>\n",
       "<table border=\"1\" class=\"dataframe\">\n",
       "  <thead>\n",
       "    <tr style=\"text-align: right;\">\n",
       "      <th></th>\n",
       "      <th>AMZN</th>\n",
       "      <th>MSFT</th>\n",
       "      <th>INTC</th>\n",
       "      <th>GOOG</th>\n",
       "      <th>INFY.NS</th>\n",
       "      <th>3988.HK</th>\n",
       "    </tr>\n",
       "    <tr>\n",
       "      <th>Date</th>\n",
       "      <th></th>\n",
       "      <th></th>\n",
       "      <th></th>\n",
       "      <th></th>\n",
       "      <th></th>\n",
       "      <th></th>\n",
       "    </tr>\n",
       "  </thead>\n",
       "  <tbody>\n",
       "    <tr>\n",
       "      <th>2023-11-15</th>\n",
       "      <td>143.199997</td>\n",
       "      <td>369.670013</td>\n",
       "      <td>40.610001</td>\n",
       "      <td>136.380005</td>\n",
       "      <td>1410.500000</td>\n",
       "      <td>2.88</td>\n",
       "    </tr>\n",
       "    <tr>\n",
       "      <th>2023-11-16</th>\n",
       "      <td>142.830002</td>\n",
       "      <td>376.170013</td>\n",
       "      <td>43.349998</td>\n",
       "      <td>138.699997</td>\n",
       "      <td>1444.900024</td>\n",
       "      <td>2.86</td>\n",
       "    </tr>\n",
       "    <tr>\n",
       "      <th>2023-11-17</th>\n",
       "      <td>145.179993</td>\n",
       "      <td>369.850006</td>\n",
       "      <td>43.810001</td>\n",
       "      <td>136.940002</td>\n",
       "      <td>1437.550049</td>\n",
       "      <td>2.83</td>\n",
       "    </tr>\n",
       "    <tr>\n",
       "      <th>2023-11-20</th>\n",
       "      <td>146.130005</td>\n",
       "      <td>377.440002</td>\n",
       "      <td>44.740002</td>\n",
       "      <td>137.919998</td>\n",
       "      <td>1436.599976</td>\n",
       "      <td>2.89</td>\n",
       "    </tr>\n",
       "    <tr>\n",
       "      <th>2023-11-21</th>\n",
       "      <td>143.899994</td>\n",
       "      <td>373.070007</td>\n",
       "      <td>43.639999</td>\n",
       "      <td>138.619995</td>\n",
       "      <td>1439.000000</td>\n",
       "      <td>2.89</td>\n",
       "    </tr>\n",
       "  </tbody>\n",
       "</table>\n",
       "</div>"
      ],
      "text/plain": [
       "                  AMZN        MSFT       INTC        GOOG      INFY.NS  \\\n",
       "Date                                                                     \n",
       "2023-11-15  143.199997  369.670013  40.610001  136.380005  1410.500000   \n",
       "2023-11-16  142.830002  376.170013  43.349998  138.699997  1444.900024   \n",
       "2023-11-17  145.179993  369.850006  43.810001  136.940002  1437.550049   \n",
       "2023-11-20  146.130005  377.440002  44.740002  137.919998  1436.599976   \n",
       "2023-11-21  143.899994  373.070007  43.639999  138.619995  1439.000000   \n",
       "\n",
       "            3988.HK  \n",
       "Date                 \n",
       "2023-11-15     2.88  \n",
       "2023-11-16     2.86  \n",
       "2023-11-17     2.83  \n",
       "2023-11-20     2.89  \n",
       "2023-11-21     2.89  "
      ]
     },
     "execution_count": 23,
     "metadata": {},
     "output_type": "execute_result"
    }
   ],
   "source": [
    "cl_price.head()"
   ]
  },
  {
   "cell_type": "code",
   "execution_count": 29,
   "id": "c696181b-34a3-4bd1-85e2-629742b58c9f",
   "metadata": {
    "tags": []
   },
   "outputs": [
    {
     "name": "stdout",
     "output_type": "stream",
     "text": [
      "[*********************100%%**********************]  1 of 1 completed\n",
      "[*********************100%%**********************]  1 of 1 completed\n",
      "[*********************100%%**********************]  1 of 1 completed\n",
      "[*********************100%%**********************]  1 of 1 completed\n",
      "[*********************100%%**********************]  1 of 1 completed\n",
      "[*********************100%%**********************]  1 of 1 completed\n"
     ]
    }
   ],
   "source": [
    "## If we want to store entire dataframe\n",
    "ohlcv_data={}\n",
    "## Looking over tickers and creating a datafram with close prices\n",
    "for ticker in stocks:\n",
    "    ohlcv_data[ticker] = yf.download(ticker, start, end)"
   ]
  },
  {
   "cell_type": "raw",
   "id": "af36fc5a-eb0a-410f-bc9a-0a6be58c4e2a",
   "metadata": {
    "tags": []
   },
   "source": [
    "ohlcv_data[\"MSFT\"].head()"
   ]
  },
  {
   "cell_type": "markdown",
   "id": "521af401-4705-4a00-92c9-f2b6117c1aff",
   "metadata": {},
   "source": [
    "#### yahoofinancials Libraries and Parsing JSON Data"
   ]
  },
  {
   "cell_type": "markdown",
   "id": "951306fe-7275-4be2-92c5-0bf37eb19172",
   "metadata": {},
   "source": [
    "It uses webscrapping\n",
    "Link: https://github.com/JECSand/yahoofinancials\n",
    "Pro: More Stable. Cons: Takes More Time\n",
    "- It will not supports for fews commonds for financial analysis (New Version)"
   ]
  },
  {
   "cell_type": "code",
   "execution_count": 35,
   "id": "544d77bf-de45-414f-b524-32d825b87660",
   "metadata": {
    "tags": []
   },
   "outputs": [],
   "source": [
    "# pip install yahoofinancials"
   ]
  },
  {
   "cell_type": "code",
   "execution_count": 38,
   "id": "7fa0e0e0-780d-483b-aeba-755e47ec3b7e",
   "metadata": {
    "tags": []
   },
   "outputs": [],
   "source": [
    "import yahoofinancials\n",
    "from yahoofinancials import YahooFinancials\n",
    "\n",
    "ticker = 'MSFT'\n",
    "yahoo_financials = YahooFinancials(ticker)\n",
    "data = yahoo_financials.get_historical_price_data(\"2018-04-24\", \"2020-04-24\", \"daily\")\n",
    "# We can't get intraday data, most granular data is daily"
   ]
  },
  {
   "cell_type": "code",
   "execution_count": 43,
   "id": "02e2fe24-edb2-448b-9b3b-c032cf9f269e",
   "metadata": {
    "tags": []
   },
   "outputs": [],
   "source": [
    "# data"
   ]
  },
  {
   "cell_type": "markdown",
   "id": "8011028a-9d42-4f60-a752-94a234c85714",
   "metadata": {},
   "source": [
    "#### yahoofinancials: Getting Data for Multiple Stocks"
   ]
  },
  {
   "cell_type": "code",
   "execution_count": 44,
   "id": "ebad38ed-9b36-401d-9359-ee5e663adf33",
   "metadata": {
    "tags": []
   },
   "outputs": [],
   "source": [
    "all_tickers = [\"AAPL\",\"MSFT\",\"CSCO\",\"AMZN\",\"INTC\"]\n",
    "\n",
    "# extracting stock data (historical close price) for the stocks identified\n",
    "close_prices = pd.DataFrame()\n",
    "end_date = (dt.date.today()).strftime('%Y-%m-%d')\n",
    "beg_date = (dt.date.today()-dt.timedelta(1825)).strftime('%Y-%m-%d')\n",
    "for ticker in all_tickers:\n",
    "    yahoo_financials = YahooFinancials(ticker)\n",
    "    json_obj = yahoo_financials.get_historical_price_data(beg_date,end_date,\"daily\")\n",
    "    ohlv = json_obj[ticker]['prices']\n",
    "    temp = pd.DataFrame(ohlv)[[\"formatted_date\",\"adjclose\"]]\n",
    "    temp.set_index(\"formatted_date\",inplace=True)\n",
    "    temp.dropna(inplace=True)\n",
    "    close_prices[ticker] = temp[\"adjclose\"]"
   ]
  },
  {
   "cell_type": "code",
   "execution_count": 45,
   "id": "4788013f-5833-4891-b01d-154e54a89c33",
   "metadata": {
    "tags": []
   },
   "outputs": [
    {
     "data": {
      "text/html": [
       "<div>\n",
       "<style scoped>\n",
       "    .dataframe tbody tr th:only-of-type {\n",
       "        vertical-align: middle;\n",
       "    }\n",
       "\n",
       "    .dataframe tbody tr th {\n",
       "        vertical-align: top;\n",
       "    }\n",
       "\n",
       "    .dataframe thead th {\n",
       "        text-align: right;\n",
       "    }\n",
       "</style>\n",
       "<table border=\"1\" class=\"dataframe\">\n",
       "  <thead>\n",
       "    <tr style=\"text-align: right;\">\n",
       "      <th></th>\n",
       "      <th>AAPL</th>\n",
       "      <th>MSFT</th>\n",
       "      <th>CSCO</th>\n",
       "      <th>AMZN</th>\n",
       "      <th>INTC</th>\n",
       "    </tr>\n",
       "    <tr>\n",
       "      <th>formatted_date</th>\n",
       "      <th></th>\n",
       "      <th></th>\n",
       "      <th></th>\n",
       "      <th></th>\n",
       "      <th></th>\n",
       "    </tr>\n",
       "  </thead>\n",
       "  <tbody>\n",
       "    <tr>\n",
       "      <th>2018-12-17</th>\n",
       "      <td>39.337841</td>\n",
       "      <td>97.704056</td>\n",
       "      <td>37.980576</td>\n",
       "      <td>76.045502</td>\n",
       "      <td>41.060699</td>\n",
       "    </tr>\n",
       "    <tr>\n",
       "      <th>2018-12-18</th>\n",
       "      <td>39.848946</td>\n",
       "      <td>98.729622</td>\n",
       "      <td>37.860271</td>\n",
       "      <td>77.573997</td>\n",
       "      <td>41.636318</td>\n",
       "    </tr>\n",
       "    <tr>\n",
       "      <th>2018-12-19</th>\n",
       "      <td>38.605991</td>\n",
       "      <td>98.463737</td>\n",
       "      <td>37.069733</td>\n",
       "      <td>74.753998</td>\n",
       "      <td>39.743752</td>\n",
       "    </tr>\n",
       "    <tr>\n",
       "      <th>2018-12-20</th>\n",
       "      <td>37.631783</td>\n",
       "      <td>96.393600</td>\n",
       "      <td>36.511189</td>\n",
       "      <td>73.041496</td>\n",
       "      <td>39.717590</td>\n",
       "    </tr>\n",
       "    <tr>\n",
       "      <th>2018-12-21</th>\n",
       "      <td>36.168060</td>\n",
       "      <td>93.278946</td>\n",
       "      <td>35.961250</td>\n",
       "      <td>68.872498</td>\n",
       "      <td>39.107090</td>\n",
       "    </tr>\n",
       "  </tbody>\n",
       "</table>\n",
       "</div>"
      ],
      "text/plain": [
       "                     AAPL       MSFT       CSCO       AMZN       INTC\n",
       "formatted_date                                                       \n",
       "2018-12-17      39.337841  97.704056  37.980576  76.045502  41.060699\n",
       "2018-12-18      39.848946  98.729622  37.860271  77.573997  41.636318\n",
       "2018-12-19      38.605991  98.463737  37.069733  74.753998  39.743752\n",
       "2018-12-20      37.631783  96.393600  36.511189  73.041496  39.717590\n",
       "2018-12-21      36.168060  93.278946  35.961250  68.872498  39.107090"
      ]
     },
     "execution_count": 45,
     "metadata": {},
     "output_type": "execute_result"
    }
   ],
   "source": [
    "close_prices.head()"
   ]
  },
  {
   "cell_type": "code",
   "execution_count": 46,
   "id": "a2cd81e8-da2b-45bc-8808-14c8780e4b94",
   "metadata": {
    "tags": []
   },
   "outputs": [],
   "source": [
    "# extracting stock data (ohlcv) for the stocks identified\n",
    "ohlv_dict = {}\n",
    "end_date = (dt.date.today()).strftime('%Y-%m-%d')\n",
    "beg_date = (dt.date.today()-dt.timedelta(1825)).strftime('%Y-%m-%d')\n",
    "for ticker in all_tickers:\n",
    "    yahoo_financials = YahooFinancials(ticker)\n",
    "    json_obj = yahoo_financials.get_historical_price_data(beg_date,end_date,\"daily\")\n",
    "    ohlv = json_obj[ticker]['prices']\n",
    "    temp = pd.DataFrame(ohlv)[[\"formatted_date\",\"adjclose\",\"open\",\"low\",\"high\",\"volume\"]]\n",
    "    temp.set_index(\"formatted_date\",inplace=True)\n",
    "    temp.dropna(inplace=True)\n",
    "    ohlv_dict[ticker] = temp"
   ]
  },
  {
   "cell_type": "code",
   "execution_count": 48,
   "id": "a978fee0-b19d-4279-969d-117ece4f92b6",
   "metadata": {
    "tags": []
   },
   "outputs": [
    {
     "data": {
      "text/html": [
       "<div>\n",
       "<style scoped>\n",
       "    .dataframe tbody tr th:only-of-type {\n",
       "        vertical-align: middle;\n",
       "    }\n",
       "\n",
       "    .dataframe tbody tr th {\n",
       "        vertical-align: top;\n",
       "    }\n",
       "\n",
       "    .dataframe thead th {\n",
       "        text-align: right;\n",
       "    }\n",
       "</style>\n",
       "<table border=\"1\" class=\"dataframe\">\n",
       "  <thead>\n",
       "    <tr style=\"text-align: right;\">\n",
       "      <th></th>\n",
       "      <th>adjclose</th>\n",
       "      <th>open</th>\n",
       "      <th>low</th>\n",
       "      <th>high</th>\n",
       "      <th>volume</th>\n",
       "    </tr>\n",
       "    <tr>\n",
       "      <th>formatted_date</th>\n",
       "      <th></th>\n",
       "      <th></th>\n",
       "      <th></th>\n",
       "      <th></th>\n",
       "      <th></th>\n",
       "    </tr>\n",
       "  </thead>\n",
       "  <tbody>\n",
       "    <tr>\n",
       "      <th>2018-12-17</th>\n",
       "      <td>39.337841</td>\n",
       "      <td>41.362499</td>\n",
       "      <td>40.682499</td>\n",
       "      <td>42.087502</td>\n",
       "      <td>177151600</td>\n",
       "    </tr>\n",
       "    <tr>\n",
       "      <th>2018-12-18</th>\n",
       "      <td>39.848946</td>\n",
       "      <td>41.345001</td>\n",
       "      <td>41.097500</td>\n",
       "      <td>41.882500</td>\n",
       "      <td>135366000</td>\n",
       "    </tr>\n",
       "    <tr>\n",
       "      <th>2018-12-19</th>\n",
       "      <td>38.605991</td>\n",
       "      <td>41.500000</td>\n",
       "      <td>39.772499</td>\n",
       "      <td>41.862499</td>\n",
       "      <td>196189200</td>\n",
       "    </tr>\n",
       "    <tr>\n",
       "      <th>2018-12-20</th>\n",
       "      <td>37.631783</td>\n",
       "      <td>40.099998</td>\n",
       "      <td>38.825001</td>\n",
       "      <td>40.527500</td>\n",
       "      <td>259092000</td>\n",
       "    </tr>\n",
       "    <tr>\n",
       "      <th>2018-12-21</th>\n",
       "      <td>36.168060</td>\n",
       "      <td>39.215000</td>\n",
       "      <td>37.407501</td>\n",
       "      <td>39.540001</td>\n",
       "      <td>382978400</td>\n",
       "    </tr>\n",
       "  </tbody>\n",
       "</table>\n",
       "</div>"
      ],
      "text/plain": [
       "                 adjclose       open        low       high     volume\n",
       "formatted_date                                                       \n",
       "2018-12-17      39.337841  41.362499  40.682499  42.087502  177151600\n",
       "2018-12-18      39.848946  41.345001  41.097500  41.882500  135366000\n",
       "2018-12-19      38.605991  41.500000  39.772499  41.862499  196189200\n",
       "2018-12-20      37.631783  40.099998  38.825001  40.527500  259092000\n",
       "2018-12-21      36.168060  39.215000  37.407501  39.540001  382978400"
      ]
     },
     "execution_count": 48,
     "metadata": {},
     "output_type": "execute_result"
    }
   ],
   "source": [
    "ohlv_dict['AAPL'].head()"
   ]
  },
  {
   "cell_type": "markdown",
   "id": "be72c51f-35d8-4d96-bcc9-3b63daf7f029",
   "metadata": {},
   "source": [
    "#### Alpha Vantage Python Library"
   ]
  },
  {
   "cell_type": "markdown",
   "id": "1c6deb6f-50d4-41ec-b391-5779fc0887f9",
   "metadata": {},
   "source": [
    "Link1: https://www.alphavantage.co/\n",
    "Link2: https://github.com/RomelTorres/alpha_vantage\n",
    "Welcome to Alpha Vantage! Your dedicated access key is: ###########. Please record this API key at a safe place for future data access."
   ]
  },
  {
   "cell_type": "markdown",
   "id": "373ca685-6433-4b5d-b684-f4618a4a53d4",
   "metadata": {},
   "source": [
    "To get data from the API, simply import the library and call the object with your API key. Next, get ready for some awesome, free, realtime finance data. Your API key may also be stored in the environment variable ALPHAVANTAGE_API_KEY. \n",
    "API rate limit is 25 requests per day."
   ]
  },
  {
   "cell_type": "code",
   "execution_count": 51,
   "id": "29ea33f2-7193-4053-bde9-caf4f9515f5d",
   "metadata": {
    "tags": []
   },
   "outputs": [],
   "source": [
    "# pip install alpha_vantage"
   ]
  },
  {
   "cell_type": "code",
   "execution_count": 65,
   "id": "2e5fc46a-837a-4e20-80e9-cd7f1117cfef",
   "metadata": {
    "tags": []
   },
   "outputs": [
    {
     "name": "stdout",
     "output_type": "stream",
     "text": [
      "                     1. open  2. high  3. low  4. close  5. volume\n",
      "date                                                              \n",
      "2023-12-13 19:59:00   375.55   375.55   375.5    375.54      440.0\n",
      "2023-12-13 19:58:00   375.50   375.55   375.5    375.55      653.0\n"
     ]
    }
   ],
   "source": [
    "from alpha_vantage.timeseries import TimeSeries\n",
    "from pprint import pprint\n",
    "import time\n",
    "key_path = \"D:\\\\Trading\\\\Data Extraction\\\\key.txt\"\n",
    "ts = TimeSeries(key=open(key_path,'r').read(), output_format='pandas')\n",
    "data, meta_data = ts.get_intraday(symbol='MSFT',interval='1min', outputsize='full')\n",
    "pprint(data.head(2))"
   ]
  },
  {
   "cell_type": "code",
   "execution_count": 66,
   "id": "13f029b4-0920-4cf9-b32c-928e23cb29b1",
   "metadata": {
    "tags": []
   },
   "outputs": [],
   "source": [
    "# extracting data for a single ticker\n",
    "ts = TimeSeries(key=open(key_path,'r').read(), output_format='pandas')\n",
    "data = ts.get_daily(symbol='MSFT', outputsize='full')[0]\n",
    "data.columns = [\"open\",\"high\",\"low\",\"close\",\"volume\"]\n",
    "data = data.iloc[::-1]"
   ]
  },
  {
   "cell_type": "code",
   "execution_count": 67,
   "id": "b6d0b229-48b6-4114-8a1a-268815217e0b",
   "metadata": {
    "tags": []
   },
   "outputs": [
    {
     "data": {
      "text/html": [
       "<div>\n",
       "<style scoped>\n",
       "    .dataframe tbody tr th:only-of-type {\n",
       "        vertical-align: middle;\n",
       "    }\n",
       "\n",
       "    .dataframe tbody tr th {\n",
       "        vertical-align: top;\n",
       "    }\n",
       "\n",
       "    .dataframe thead th {\n",
       "        text-align: right;\n",
       "    }\n",
       "</style>\n",
       "<table border=\"1\" class=\"dataframe\">\n",
       "  <thead>\n",
       "    <tr style=\"text-align: right;\">\n",
       "      <th></th>\n",
       "      <th>open</th>\n",
       "      <th>high</th>\n",
       "      <th>low</th>\n",
       "      <th>close</th>\n",
       "      <th>volume</th>\n",
       "    </tr>\n",
       "    <tr>\n",
       "      <th>date</th>\n",
       "      <th></th>\n",
       "      <th></th>\n",
       "      <th></th>\n",
       "      <th></th>\n",
       "      <th></th>\n",
       "    </tr>\n",
       "  </thead>\n",
       "  <tbody>\n",
       "    <tr>\n",
       "      <th>1999-11-01</th>\n",
       "      <td>93.25</td>\n",
       "      <td>94.19</td>\n",
       "      <td>92.12</td>\n",
       "      <td>92.37</td>\n",
       "      <td>26630600.0</td>\n",
       "    </tr>\n",
       "    <tr>\n",
       "      <th>1999-11-02</th>\n",
       "      <td>92.75</td>\n",
       "      <td>94.50</td>\n",
       "      <td>91.94</td>\n",
       "      <td>92.56</td>\n",
       "      <td>23174500.0</td>\n",
       "    </tr>\n",
       "    <tr>\n",
       "      <th>1999-11-03</th>\n",
       "      <td>92.94</td>\n",
       "      <td>93.50</td>\n",
       "      <td>91.50</td>\n",
       "      <td>92.00</td>\n",
       "      <td>22258500.0</td>\n",
       "    </tr>\n",
       "    <tr>\n",
       "      <th>1999-11-04</th>\n",
       "      <td>92.31</td>\n",
       "      <td>92.75</td>\n",
       "      <td>90.31</td>\n",
       "      <td>91.75</td>\n",
       "      <td>27119700.0</td>\n",
       "    </tr>\n",
       "    <tr>\n",
       "      <th>1999-11-05</th>\n",
       "      <td>91.81</td>\n",
       "      <td>92.87</td>\n",
       "      <td>90.50</td>\n",
       "      <td>91.56</td>\n",
       "      <td>35083700.0</td>\n",
       "    </tr>\n",
       "  </tbody>\n",
       "</table>\n",
       "</div>"
      ],
      "text/plain": [
       "             open   high    low  close      volume\n",
       "date                                              \n",
       "1999-11-01  93.25  94.19  92.12  92.37  26630600.0\n",
       "1999-11-02  92.75  94.50  91.94  92.56  23174500.0\n",
       "1999-11-03  92.94  93.50  91.50  92.00  22258500.0\n",
       "1999-11-04  92.31  92.75  90.31  91.75  27119700.0\n",
       "1999-11-05  91.81  92.87  90.50  91.56  35083700.0"
      ]
     },
     "execution_count": 67,
     "metadata": {},
     "output_type": "execute_result"
    }
   ],
   "source": [
    "data.head()"
   ]
  },
  {
   "cell_type": "code",
   "execution_count": null,
   "id": "73ec59ce-a0ce-421b-b55f-b8911d0478ec",
   "metadata": {},
   "outputs": [],
   "source": [
    "# extracting stock data (historical close price) for multiple stocks\n",
    "all_tickers = [\"AAPL\",\"MSFT\",\"CSCO\",\"AMZN\",\"GOOG\",\n",
    "               \"FB\",\"BA\",\"MMM\",\"XOM\",\"NKE\",\"INTC\"]\n",
    "close_prices = pd.DataFrame()\n",
    "api_call_count = 1\n",
    "ts = TimeSeries(key=open(key_path,'r').read(), output_format='pandas')\n",
    "start_time = time.time()\n",
    "for ticker in all_tickers:\n",
    "    data = ts.get_intraday(symbol=ticker,interval='1min', outputsize='compact')[0]\n",
    "    api_call_count+=1\n",
    "    data.columns = [\"open\",\"high\",\"low\",\"close\",\"volume\"]\n",
    "    data = data.iloc[::-1]\n",
    "    close_prices[ticker] = data[\"close\"]\n",
    "    if api_call_count==5:\n",
    "        api_call_count = 1\n",
    "        time.sleep(60 - ((time.time() - start_time) % 60.0))"
   ]
  },
  {
   "cell_type": "code",
   "execution_count": 73,
   "id": "55d8c0c6-b76e-4a7f-8bd2-8e53b62a6d6a",
   "metadata": {
    "tags": []
   },
   "outputs": [
    {
     "ename": "ValueError",
     "evalue": "Thank you for using Alpha Vantage! Our standard API rate limit is 25 requests per day. Please subscribe to any of the premium plans at https://www.alphavantage.co/premium/ to instantly remove all daily rate limits.",
     "output_type": "error",
     "traceback": [
      "\u001b[1;31m---------------------------------------------------------------------------\u001b[0m",
      "\u001b[1;31mValueError\u001b[0m                                Traceback (most recent call last)",
      "Cell \u001b[1;32mIn[73], line 9\u001b[0m\n\u001b[0;32m      7\u001b[0m start_time \u001b[38;5;241m=\u001b[39m time\u001b[38;5;241m.\u001b[39mtime()\n\u001b[0;32m      8\u001b[0m \u001b[38;5;28;01mfor\u001b[39;00m ticker \u001b[38;5;129;01min\u001b[39;00m all_tickers:\n\u001b[1;32m----> 9\u001b[0m     data \u001b[38;5;241m=\u001b[39m \u001b[43mts\u001b[49m\u001b[38;5;241;43m.\u001b[39;49m\u001b[43mget_intraday\u001b[49m\u001b[43m(\u001b[49m\u001b[43msymbol\u001b[49m\u001b[38;5;241;43m=\u001b[39;49m\u001b[43mticker\u001b[49m\u001b[43m,\u001b[49m\u001b[43minterval\u001b[49m\u001b[38;5;241;43m=\u001b[39;49m\u001b[38;5;124;43m'\u001b[39;49m\u001b[38;5;124;43m1min\u001b[39;49m\u001b[38;5;124;43m'\u001b[39;49m\u001b[43m,\u001b[49m\u001b[43m \u001b[49m\u001b[43moutputsize\u001b[49m\u001b[38;5;241;43m=\u001b[39;49m\u001b[38;5;124;43m'\u001b[39;49m\u001b[38;5;124;43mcompact\u001b[39;49m\u001b[38;5;124;43m'\u001b[39;49m\u001b[43m)\u001b[49m[\u001b[38;5;241m0\u001b[39m]\n\u001b[0;32m     10\u001b[0m     api_call_count\u001b[38;5;241m+\u001b[39m\u001b[38;5;241m=\u001b[39m\u001b[38;5;241m1\u001b[39m\n\u001b[0;32m     11\u001b[0m     data\u001b[38;5;241m.\u001b[39mcolumns \u001b[38;5;241m=\u001b[39m [\u001b[38;5;124m\"\u001b[39m\u001b[38;5;124mopen\u001b[39m\u001b[38;5;124m\"\u001b[39m,\u001b[38;5;124m\"\u001b[39m\u001b[38;5;124mhigh\u001b[39m\u001b[38;5;124m\"\u001b[39m,\u001b[38;5;124m\"\u001b[39m\u001b[38;5;124mlow\u001b[39m\u001b[38;5;124m\"\u001b[39m,\u001b[38;5;124m\"\u001b[39m\u001b[38;5;124mclose\u001b[39m\u001b[38;5;124m\"\u001b[39m,\u001b[38;5;124m\"\u001b[39m\u001b[38;5;124mvolume\u001b[39m\u001b[38;5;124m\"\u001b[39m]\n",
      "File \u001b[1;32mC:\\ProgramData\\Anaconda3\\envs\\API\\lib\\site-packages\\alpha_vantage\\alphavantage.py:218\u001b[0m, in \u001b[0;36mAlphaVantage._output_format.<locals>._format_wrapper\u001b[1;34m(self, *args, **kwargs)\u001b[0m\n\u001b[0;32m    216\u001b[0m \u001b[38;5;129m@wraps\u001b[39m(func)\n\u001b[0;32m    217\u001b[0m \u001b[38;5;28;01mdef\u001b[39;00m \u001b[38;5;21m_format_wrapper\u001b[39m(\u001b[38;5;28mself\u001b[39m, \u001b[38;5;241m*\u001b[39margs, \u001b[38;5;241m*\u001b[39m\u001b[38;5;241m*\u001b[39mkwargs):\n\u001b[1;32m--> 218\u001b[0m     call_response, data_key, meta_data_key \u001b[38;5;241m=\u001b[39m func(\n\u001b[0;32m    219\u001b[0m         \u001b[38;5;28mself\u001b[39m, \u001b[38;5;241m*\u001b[39margs, \u001b[38;5;241m*\u001b[39m\u001b[38;5;241m*\u001b[39mkwargs)\n\u001b[0;32m    220\u001b[0m     \u001b[38;5;28;01mif\u001b[39;00m \u001b[38;5;124m'\u001b[39m\u001b[38;5;124mjson\u001b[39m\u001b[38;5;124m'\u001b[39m \u001b[38;5;129;01min\u001b[39;00m \u001b[38;5;28mself\u001b[39m\u001b[38;5;241m.\u001b[39moutput_format\u001b[38;5;241m.\u001b[39mlower() \u001b[38;5;129;01mor\u001b[39;00m \u001b[38;5;124m'\u001b[39m\u001b[38;5;124mpandas\u001b[39m\u001b[38;5;124m'\u001b[39m \\\n\u001b[0;32m    221\u001b[0m             \u001b[38;5;129;01min\u001b[39;00m \u001b[38;5;28mself\u001b[39m\u001b[38;5;241m.\u001b[39moutput_format\u001b[38;5;241m.\u001b[39mlower():\n\u001b[0;32m    222\u001b[0m         \u001b[38;5;28;01mif\u001b[39;00m data_key \u001b[38;5;129;01mis\u001b[39;00m \u001b[38;5;129;01mnot\u001b[39;00m \u001b[38;5;28;01mNone\u001b[39;00m:\n",
      "File \u001b[1;32mC:\\ProgramData\\Anaconda3\\envs\\API\\lib\\site-packages\\alpha_vantage\\alphavantage.py:160\u001b[0m, in \u001b[0;36mAlphaVantage._call_api_on_func.<locals>._call_wrapper\u001b[1;34m(self, *args, **kwargs)\u001b[0m\n\u001b[0;32m    158\u001b[0m \u001b[38;5;28;01melse\u001b[39;00m:\n\u001b[0;32m    159\u001b[0m     url \u001b[38;5;241m=\u001b[39m \u001b[38;5;124m'\u001b[39m\u001b[38;5;132;01m{}\u001b[39;00m\u001b[38;5;132;01m{}\u001b[39;00m\u001b[38;5;124m'\u001b[39m\u001b[38;5;241m.\u001b[39mformat(url, apikey_parameter)\n\u001b[1;32m--> 160\u001b[0m \u001b[38;5;28;01mreturn\u001b[39;00m \u001b[38;5;28;43mself\u001b[39;49m\u001b[38;5;241;43m.\u001b[39;49m\u001b[43m_handle_api_call\u001b[49m\u001b[43m(\u001b[49m\u001b[43murl\u001b[49m\u001b[43m)\u001b[49m, data_key, meta_data_key\n",
      "File \u001b[1;32mC:\\ProgramData\\Anaconda3\\envs\\API\\lib\\site-packages\\alpha_vantage\\alphavantage.py:361\u001b[0m, in \u001b[0;36mAlphaVantage._handle_api_call\u001b[1;34m(self, url)\u001b[0m\n\u001b[0;32m    359\u001b[0m     \u001b[38;5;28;01mraise\u001b[39;00m \u001b[38;5;167;01mValueError\u001b[39;00m(json_response[\u001b[38;5;124m\"\u001b[39m\u001b[38;5;124mError Message\u001b[39m\u001b[38;5;124m\"\u001b[39m])\n\u001b[0;32m    360\u001b[0m \u001b[38;5;28;01melif\u001b[39;00m \u001b[38;5;124m\"\u001b[39m\u001b[38;5;124mInformation\u001b[39m\u001b[38;5;124m\"\u001b[39m \u001b[38;5;129;01min\u001b[39;00m json_response \u001b[38;5;129;01mand\u001b[39;00m \u001b[38;5;28mself\u001b[39m\u001b[38;5;241m.\u001b[39mtreat_info_as_error:\n\u001b[1;32m--> 361\u001b[0m     \u001b[38;5;28;01mraise\u001b[39;00m \u001b[38;5;167;01mValueError\u001b[39;00m(json_response[\u001b[38;5;124m\"\u001b[39m\u001b[38;5;124mInformation\u001b[39m\u001b[38;5;124m\"\u001b[39m])\n\u001b[0;32m    362\u001b[0m \u001b[38;5;28;01melif\u001b[39;00m \u001b[38;5;124m\"\u001b[39m\u001b[38;5;124mNote\u001b[39m\u001b[38;5;124m\"\u001b[39m \u001b[38;5;129;01min\u001b[39;00m json_response \u001b[38;5;129;01mand\u001b[39;00m \u001b[38;5;28mself\u001b[39m\u001b[38;5;241m.\u001b[39mtreat_info_as_error:\n\u001b[0;32m    363\u001b[0m     \u001b[38;5;28;01mraise\u001b[39;00m \u001b[38;5;167;01mValueError\u001b[39;00m(json_response[\u001b[38;5;124m\"\u001b[39m\u001b[38;5;124mNote\u001b[39m\u001b[38;5;124m\"\u001b[39m])\n",
      "\u001b[1;31mValueError\u001b[0m: Thank you for using Alpha Vantage! Our standard API rate limit is 25 requests per day. Please subscribe to any of the premium plans at https://www.alphavantage.co/premium/ to instantly remove all daily rate limits."
     ]
    }
   ],
   "source": [
    "# extracting ohlcv data for multiple stocks\n",
    "all_tickers = [\"AAPL\",\"MSFT\",\"CSCO\",\"AMZN\",\"GOOG\",\n",
    "               \"FB\",\"BA\",\"MMM\",\"XOM\",\"NKE\",\"INTC\"]\n",
    "ohlv_dict = {}\n",
    "api_call_count = 1\n",
    "ts = TimeSeries(key=open(key_path,'r').read(), output_format='pandas')\n",
    "start_time = time.time()\n",
    "for ticker in all_tickers:\n",
    "    data = ts.get_intraday(symbol=ticker,interval='1min', outputsize='compact')[0]\n",
    "    api_call_count+=1\n",
    "    data.columns = [\"open\",\"high\",\"low\",\"close\",\"volume\"]\n",
    "    data = data.iloc[::-1]\n",
    "    ohlv_dict[ticker] = data\n",
    "    if api_call_count==5:\n",
    "        api_call_count = 1\n",
    "        time.sleep(60 - ((time.time() - start_time) % 60.0))"
   ]
  },
  {
   "cell_type": "markdown",
   "id": "e4b1dbc5-5b07-4134-b00a-70633439e143",
   "metadata": {},
   "source": [
    "#### API vs Webscrapping"
   ]
  },
  {
   "cell_type": "markdown",
   "id": "d9589e87-8275-4be0-a0c0-005d82890f9b",
   "metadata": {},
   "source": [
    "Similarities || Differences\n",
    "\n",
    " Access: Both are useful for collecting data from the web || With web scraping, you can get data from any site APIs are limited to sites that expose data via API endpoints\n",
    " \n",
    " Data Extraction: Both come with some limitations || Web scraping can get you blocked because of anti-bot systems APIs may have some restrictions based on usage policies and your paid plan limitations\n",
    "\n",
    " Technical Knowledge: Both need technical knowledge for implementation and usage || Building a web scraper requires developing scripts with custom logic API integration is generally easy and supported by the vendor's documentation\n",
    "\n",
    " Cost: Both come with a cost Web scraping involves development and server hosting costs || APIs have a price per call or come with a fixed cost that depends on the plans offered by the site owner"
   ]
  },
  {
   "cell_type": "markdown",
   "id": "9b05162e-742f-487c-b283-40315e62ff00",
   "metadata": {},
   "source": [
    "#### Web Scrapping Of Financial Data"
   ]
  },
  {
   "cell_type": "markdown",
   "id": "538389d2-28df-4924-9b28-6ee3a65f98d3",
   "metadata": {},
   "source": [
    "Link: https://www.freecodecamp.org/news/how-to-scrape-websites-with-python-and-beautifulsoup-5946935d93fe/"
   ]
  },
  {
   "cell_type": "code",
   "execution_count": 5,
   "id": "62bef470-6159-4aeb-a6d6-d57b515f185b",
   "metadata": {},
   "outputs": [],
   "source": [
    "import requests\n",
    "from bs4 import BeautifulSoup\n",
    "\n",
    "income_statement = {}\n",
    "\n",
    "url = \"https://finance.yahoo.com/quote/AAPL/financials?p=AAPL\"\n",
    "\n",
    "headers = {\"User-Agent\" : \"Chrome/120.0.6099.110\"}\n",
    "page = requests.get(url, headers=headers)\n",
    "page_content = page.content\n",
    "soup = BeautifulSoup(page_content,\"html.parser\")\n",
    "tabl = soup.find_all(\"div\" , {\"class\" : \"M(0) Whs(n) BdEnd Bdc($seperatorColor) D(itb)\"})\n",
    "for t in tabl:\n",
    "    rows = t.find_all(\"div\" , {\"class\": \"D(tbr) fi-row Bgc($hoverBgColor):h\"})\n",
    "    for row in rows:\n",
    "        income_statement[row.get_text(separator=\"|\").split(\"|\")[0]] = row.get_text(separator=\"|\").split(\"|\")[1]"
   ]
  },
  {
   "cell_type": "code",
   "execution_count": 6,
   "id": "68593584-6979-4961-b1ef-c9a7c12890f6",
   "metadata": {
    "tags": []
   },
   "outputs": [
    {
     "data": {
      "text/plain": [
       "{'Total Revenue': '383,933,000',\n",
       " 'Cost of Revenue': '217,117,000',\n",
       " 'Gross Profit': '166,816,000',\n",
       " 'Operating Expense': '54,590,000',\n",
       " 'Operating Income': '112,226,000',\n",
       " 'Net Non Operating Interest Income Expense': '-239,000',\n",
       " 'Other Income Expense': '-592,000',\n",
       " 'Pretax Income': '111,395,000',\n",
       " 'Tax Provision': '16,635,000',\n",
       " 'Net Income Common Stockholders': '94,760,000',\n",
       " 'Diluted NI Available to Com Stockholders': '94,760,000',\n",
       " 'Basic EPS': '5.98',\n",
       " 'Diluted EPS': '5.96',\n",
       " 'Basic Average Shares': '15,851,968',\n",
       " 'Diluted Average Shares': '15,924,064',\n",
       " 'Total Operating Income as Reported': '112,226,000',\n",
       " 'Total Expenses': '271,707,000',\n",
       " 'Net Income from Continuing & Discontinued Operation': '94,760,000',\n",
       " 'Normalized Income': '94,760,000',\n",
       " 'Interest Income': '3,519,000',\n",
       " 'Interest Expense': '3,758,000',\n",
       " 'Net Interest Income': '-239,000',\n",
       " 'EBIT': '115,153,000',\n",
       " 'EBITDA': '126,884,000',\n",
       " 'Reconciled Cost of Revenue': '217,117,000',\n",
       " 'Reconciled Depreciation': '11,731,000',\n",
       " 'Net Income from Continuing Operation Net Minority Interest': '94,760,000',\n",
       " 'Normalized EBITDA': '126,884,000',\n",
       " 'Tax Rate for Calcs': '0',\n",
       " 'Tax Effect of Unusual Items': '0'}"
      ]
     },
     "execution_count": 6,
     "metadata": {},
     "output_type": "execute_result"
    }
   ],
   "source": [
    "income_statement"
   ]
  },
  {
   "cell_type": "code",
   "execution_count": 8,
   "id": "533baee8-f004-4a46-9d6d-9dc9c31d633a",
   "metadata": {
    "tags": []
   },
   "outputs": [
    {
     "name": "stderr",
     "output_type": "stream",
     "text": [
      "C:\\Users\\abhis\\AppData\\Local\\Temp\\ipykernel_3728\\737730242.py:80: FutureWarning: The default value of regex will change from True to False in a future version.\n",
      "  income_statatement_dict[ticker][col] = income_statatement_dict[ticker][col].str.replace(',|- ','')\n",
      "C:\\Users\\abhis\\AppData\\Local\\Temp\\ipykernel_3728\\737730242.py:82: FutureWarning: The default value of regex will change from True to False in a future version.\n",
      "  cashflow_st_dict[ticker][col] = cashflow_st_dict[ticker][col].str.replace(',|- ','')\n",
      "C:\\Users\\abhis\\AppData\\Local\\Temp\\ipykernel_3728\\737730242.py:85: FutureWarning: The default value of regex will change from True to False in a future version.\n",
      "  balance_sheet_dict[ticker][col] = balance_sheet_dict[ticker][col].str.replace(',|- ','')\n"
     ]
    }
   ],
   "source": [
    "import requests\n",
    "from bs4 import BeautifulSoup\n",
    "import pandas as pd\n",
    "\n",
    "tickers = [\"AAPL\",\"FB\",\"CSCO\",\"INFY.NS\",\"3988.HK\"]\n",
    "income_statatement_dict = {}\n",
    "balance_sheet_dict = {}\n",
    "cashflow_st_dict = {}\n",
    "\n",
    "for ticker in tickers:\n",
    "    #scraping income statement\n",
    "    url = \"https://finance.yahoo.com/quote/{}/financials?p={}\".format(ticker,ticker)\n",
    "    income_statement = {}\n",
    "    table_title = {}\n",
    "    \n",
    "    headers = {\"User-Agent\" : \"Chrome/120.0.6099.110\"}\n",
    "    page = requests.get(url, headers=headers)\n",
    "    page_content = page.content\n",
    "    soup = BeautifulSoup(page_content,\"html.parser\")\n",
    "    tabl = soup.find_all(\"div\" , {\"class\" : \"M(0) Whs(n) BdEnd Bdc($seperatorColor) D(itb)\"})\n",
    "    for t in tabl:\n",
    "        heading = t.find_all(\"div\" , {\"class\": \"D(tbr) C($primaryColor)\"})\n",
    "        for top_row in heading:\n",
    "            table_title[top_row.get_text(separator=\"|\").split(\"|\")[0]] = top_row.get_text(separator=\"|\").split(\"|\")[1:]\n",
    "        rows = t.find_all(\"div\" , {\"class\": \"D(tbr) fi-row Bgc($hoverBgColor):h\"})\n",
    "        for row in rows:\n",
    "            income_statement[row.get_text(separator=\"|\").split(\"|\")[0]] = row.get_text(separator=\"|\").split(\"|\")[1:]\n",
    "\n",
    "    temp = pd.DataFrame(income_statement).T\n",
    "    temp.columns = table_title[\"Breakdown\"]\n",
    "    income_statatement_dict[ticker] = temp\n",
    "    \n",
    "    #scraping balance sheet statement\n",
    "    url = \"https://finance.yahoo.com/quote/{}/balance-sheet?p={}\".format(ticker,ticker)\n",
    "    balance_sheet = {}\n",
    "    table_title = {}\n",
    "    \n",
    "    headers = {\"User-Agent\" : \"Chrome/120.0.6099.110\"}\n",
    "    page = requests.get(url, headers=headers)\n",
    "    page_content = page.content\n",
    "    soup = BeautifulSoup(page_content,\"html.parser\")\n",
    "    tabl = soup.find_all(\"div\" , {\"class\" : \"M(0) Whs(n) BdEnd Bdc($seperatorColor) D(itb)\"})\n",
    "    for t in tabl:\n",
    "        heading = t.find_all(\"div\" , {\"class\": \"D(tbr) C($primaryColor)\"})\n",
    "        for top_row in heading:\n",
    "            table_title[top_row.get_text(separator=\"|\").split(\"|\")[0]] = top_row.get_text(separator=\"|\").split(\"|\")[1:]\n",
    "        rows = t.find_all(\"div\" , {\"class\": \"D(tbr) fi-row Bgc($hoverBgColor):h\"})\n",
    "        for row in rows:\n",
    "            balance_sheet[row.get_text(separator=\"|\").split(\"|\")[0]] = row.get_text(separator=\"|\").split(\"|\")[1:]\n",
    "\n",
    "    temp = pd.DataFrame(balance_sheet).T\n",
    "    temp.columns = table_title[\"Breakdown\"]\n",
    "    balance_sheet_dict[ticker] = temp\n",
    "    \n",
    "    #scraping cashflow statement\n",
    "    url = \"https://finance.yahoo.com/quote/{}/cash-flow?p={}\".format(ticker,ticker)\n",
    "    cashflow_statement = {}\n",
    "    table_title = {}\n",
    "    \n",
    "    headers = {\"User-Agent\" : \"Chrome/120.0.6099.110\"}\n",
    "    page = requests.get(url, headers=headers)\n",
    "    page_content = page.content\n",
    "    soup = BeautifulSoup(page_content,\"html.parser\")\n",
    "    tabl = soup.find_all(\"div\" , {\"class\" : \"M(0) Whs(n) BdEnd Bdc($seperatorColor) D(itb)\"})\n",
    "    for t in tabl:\n",
    "        heading = t.find_all(\"div\" , {\"class\": \"D(tbr) C($primaryColor)\"})\n",
    "        for top_row in heading:\n",
    "            table_title[top_row.get_text(separator=\"|\").split(\"|\")[0]] = top_row.get_text(separator=\"|\").split(\"|\")[1:]\n",
    "        rows = t.find_all(\"div\" , {\"class\": \"D(tbr) fi-row Bgc($hoverBgColor):h\"})\n",
    "        for row in rows:\n",
    "            cashflow_statement[row.get_text(separator=\"|\").split(\"|\")[0]] = row.get_text(separator=\"|\").split(\"|\")[1:]\n",
    "\n",
    "    temp = pd.DataFrame(cashflow_statement).T\n",
    "    temp.columns = table_title[\"Breakdown\"]\n",
    "    cashflow_st_dict[ticker] = temp\n",
    "    \n",
    "#converting dataframe values to numeric\n",
    "for ticker in tickers:\n",
    "    for col in income_statatement_dict[ticker].columns:\n",
    "        income_statatement_dict[ticker][col] = income_statatement_dict[ticker][col].str.replace(',|- ','')\n",
    "        income_statatement_dict[ticker][col] = pd.to_numeric(income_statatement_dict[ticker][col], errors = 'coerce')\n",
    "        cashflow_st_dict[ticker][col] = cashflow_st_dict[ticker][col].str.replace(',|- ','')\n",
    "        cashflow_st_dict[ticker][col] = pd.to_numeric(cashflow_st_dict[ticker][col], errors = 'coerce') \n",
    "        if col!=\"ttm\": #yahoo has ttm column for income statement and cashflow statement only\n",
    "            balance_sheet_dict[ticker][col] = balance_sheet_dict[ticker][col].str.replace(',|- ','')\n",
    "            balance_sheet_dict[ticker][col] = pd.to_numeric(balance_sheet_dict[ticker][col], errors = 'coerce')"
   ]
  },
  {
   "cell_type": "code",
   "execution_count": 9,
   "id": "528e336b-2445-429c-ab40-dc7ad6bf7a4f",
   "metadata": {
    "tags": []
   },
   "outputs": [
    {
     "data": {
      "text/html": [
       "<div>\n",
       "<style scoped>\n",
       "    .dataframe tbody tr th:only-of-type {\n",
       "        vertical-align: middle;\n",
       "    }\n",
       "\n",
       "    .dataframe tbody tr th {\n",
       "        vertical-align: top;\n",
       "    }\n",
       "\n",
       "    .dataframe thead th {\n",
       "        text-align: right;\n",
       "    }\n",
       "</style>\n",
       "<table border=\"1\" class=\"dataframe\">\n",
       "  <thead>\n",
       "    <tr style=\"text-align: right;\">\n",
       "      <th></th>\n",
       "      <th>ttm</th>\n",
       "      <th>7/31/2023</th>\n",
       "      <th>7/31/2022</th>\n",
       "      <th>7/31/2021</th>\n",
       "      <th>7/31/2020</th>\n",
       "    </tr>\n",
       "  </thead>\n",
       "  <tbody>\n",
       "    <tr>\n",
       "      <th>Total Revenue</th>\n",
       "      <td>58034000.00</td>\n",
       "      <td>56998000.00</td>\n",
       "      <td>51557000.00</td>\n",
       "      <td>49818000.00</td>\n",
       "      <td>49301000.00</td>\n",
       "    </tr>\n",
       "    <tr>\n",
       "      <th>Cost of Revenue</th>\n",
       "      <td>21070000.00</td>\n",
       "      <td>21245000.00</td>\n",
       "      <td>19309000.00</td>\n",
       "      <td>17924000.00</td>\n",
       "      <td>17618000.00</td>\n",
       "    </tr>\n",
       "    <tr>\n",
       "      <th>Gross Profit</th>\n",
       "      <td>36964000.00</td>\n",
       "      <td>35753000.00</td>\n",
       "      <td>32248000.00</td>\n",
       "      <td>31894000.00</td>\n",
       "      <td>31683000.00</td>\n",
       "    </tr>\n",
       "    <tr>\n",
       "      <th>Operating Expense</th>\n",
       "      <td>20541000.00</td>\n",
       "      <td>20191000.00</td>\n",
       "      <td>18273000.00</td>\n",
       "      <td>18175000.00</td>\n",
       "      <td>17582000.00</td>\n",
       "    </tr>\n",
       "    <tr>\n",
       "      <th>Operating Income</th>\n",
       "      <td>16423000.00</td>\n",
       "      <td>15562000.00</td>\n",
       "      <td>13975000.00</td>\n",
       "      <td>13719000.00</td>\n",
       "      <td>14101000.00</td>\n",
       "    </tr>\n",
       "    <tr>\n",
       "      <th>Net Non Operating Interest Income Expense</th>\n",
       "      <td>715000.00</td>\n",
       "      <td>535000.00</td>\n",
       "      <td>116000.00</td>\n",
       "      <td>184000.00</td>\n",
       "      <td>335000.00</td>\n",
       "    </tr>\n",
       "    <tr>\n",
       "      <th>Other Income Expense</th>\n",
       "      <td>-853000.00</td>\n",
       "      <td>-779000.00</td>\n",
       "      <td>386000.00</td>\n",
       "      <td>-641000.00</td>\n",
       "      <td>-466000.00</td>\n",
       "    </tr>\n",
       "    <tr>\n",
       "      <th>Pretax Income</th>\n",
       "      <td>16285000.00</td>\n",
       "      <td>15318000.00</td>\n",
       "      <td>14477000.00</td>\n",
       "      <td>13262000.00</td>\n",
       "      <td>13970000.00</td>\n",
       "    </tr>\n",
       "    <tr>\n",
       "      <th>Tax Provision</th>\n",
       "      <td>2704000.00</td>\n",
       "      <td>2705000.00</td>\n",
       "      <td>2665000.00</td>\n",
       "      <td>2671000.00</td>\n",
       "      <td>2756000.00</td>\n",
       "    </tr>\n",
       "    <tr>\n",
       "      <th>Net Income Common Stockholders</th>\n",
       "      <td>13581000.00</td>\n",
       "      <td>12613000.00</td>\n",
       "      <td>11812000.00</td>\n",
       "      <td>10591000.00</td>\n",
       "      <td>11214000.00</td>\n",
       "    </tr>\n",
       "    <tr>\n",
       "      <th>Diluted NI Available to Com Stockholders</th>\n",
       "      <td>13581000.00</td>\n",
       "      <td>12613000.00</td>\n",
       "      <td>11812000.00</td>\n",
       "      <td>10591000.00</td>\n",
       "      <td>11214000.00</td>\n",
       "    </tr>\n",
       "    <tr>\n",
       "      <th>Basic EPS</th>\n",
       "      <td>3.08</td>\n",
       "      <td>3.08</td>\n",
       "      <td>2.83</td>\n",
       "      <td>2.51</td>\n",
       "      <td>2.65</td>\n",
       "    </tr>\n",
       "    <tr>\n",
       "      <th>Diluted EPS</th>\n",
       "      <td>3.07</td>\n",
       "      <td>3.07</td>\n",
       "      <td>2.82</td>\n",
       "      <td>2.50</td>\n",
       "      <td>2.64</td>\n",
       "    </tr>\n",
       "    <tr>\n",
       "      <th>Basic Average Shares</th>\n",
       "      <td>4093000.00</td>\n",
       "      <td>4093000.00</td>\n",
       "      <td>4170000.00</td>\n",
       "      <td>4222000.00</td>\n",
       "      <td>4236000.00</td>\n",
       "    </tr>\n",
       "    <tr>\n",
       "      <th>Diluted Average Shares</th>\n",
       "      <td>4105000.00</td>\n",
       "      <td>4105000.00</td>\n",
       "      <td>4192000.00</td>\n",
       "      <td>4236000.00</td>\n",
       "      <td>4254000.00</td>\n",
       "    </tr>\n",
       "    <tr>\n",
       "      <th>Total Operating Income as Reported</th>\n",
       "      <td>15767000.00</td>\n",
       "      <td>15031000.00</td>\n",
       "      <td>13969000.00</td>\n",
       "      <td>12833000.00</td>\n",
       "      <td>13620000.00</td>\n",
       "    </tr>\n",
       "    <tr>\n",
       "      <th>Total Expenses</th>\n",
       "      <td>41611000.00</td>\n",
       "      <td>41436000.00</td>\n",
       "      <td>37582000.00</td>\n",
       "      <td>36099000.00</td>\n",
       "      <td>35200000.00</td>\n",
       "    </tr>\n",
       "    <tr>\n",
       "      <th>Net Income from Continuing &amp; Discontinued Operation</th>\n",
       "      <td>13581000.00</td>\n",
       "      <td>12613000.00</td>\n",
       "      <td>11812000.00</td>\n",
       "      <td>10591000.00</td>\n",
       "      <td>11214000.00</td>\n",
       "    </tr>\n",
       "    <tr>\n",
       "      <th>Normalized Income</th>\n",
       "      <td>14176446.00</td>\n",
       "      <td>13050013.00</td>\n",
       "      <td>11816896.00</td>\n",
       "      <td>11298914.00</td>\n",
       "      <td>11600243.00</td>\n",
       "    </tr>\n",
       "    <tr>\n",
       "      <th>Interest Income</th>\n",
       "      <td>1153000.00</td>\n",
       "      <td>962000.00</td>\n",
       "      <td>476000.00</td>\n",
       "      <td>618000.00</td>\n",
       "      <td>920000.00</td>\n",
       "    </tr>\n",
       "    <tr>\n",
       "      <th>Interest Expense</th>\n",
       "      <td>438000.00</td>\n",
       "      <td>427000.00</td>\n",
       "      <td>360000.00</td>\n",
       "      <td>434000.00</td>\n",
       "      <td>585000.00</td>\n",
       "    </tr>\n",
       "    <tr>\n",
       "      <th>Net Interest Income</th>\n",
       "      <td>715000.00</td>\n",
       "      <td>535000.00</td>\n",
       "      <td>116000.00</td>\n",
       "      <td>184000.00</td>\n",
       "      <td>335000.00</td>\n",
       "    </tr>\n",
       "    <tr>\n",
       "      <th>EBIT</th>\n",
       "      <td>16723000.00</td>\n",
       "      <td>15745000.00</td>\n",
       "      <td>14837000.00</td>\n",
       "      <td>13696000.00</td>\n",
       "      <td>14555000.00</td>\n",
       "    </tr>\n",
       "    <tr>\n",
       "      <th>EBITDA</th>\n",
       "      <td>18435000.00</td>\n",
       "      <td>17471000.00</td>\n",
       "      <td>16794000.00</td>\n",
       "      <td>15558000.00</td>\n",
       "      <td>16363000.00</td>\n",
       "    </tr>\n",
       "    <tr>\n",
       "      <th>Reconciled Cost of Revenue</th>\n",
       "      <td>19636000.00</td>\n",
       "      <td>19801000.00</td>\n",
       "      <td>17665000.00</td>\n",
       "      <td>16277000.00</td>\n",
       "      <td>15951000.00</td>\n",
       "    </tr>\n",
       "    <tr>\n",
       "      <th>Reconciled Depreciation</th>\n",
       "      <td>1712000.00</td>\n",
       "      <td>1726000.00</td>\n",
       "      <td>1957000.00</td>\n",
       "      <td>1862000.00</td>\n",
       "      <td>1808000.00</td>\n",
       "    </tr>\n",
       "    <tr>\n",
       "      <th>Net Income from Continuing Operation Net Minority Interest</th>\n",
       "      <td>13581000.00</td>\n",
       "      <td>12613000.00</td>\n",
       "      <td>11812000.00</td>\n",
       "      <td>10591000.00</td>\n",
       "      <td>11214000.00</td>\n",
       "    </tr>\n",
       "    <tr>\n",
       "      <th>Total Unusual Items Excluding Goodwill</th>\n",
       "      <td>-714000.00</td>\n",
       "      <td>-531000.00</td>\n",
       "      <td>-6000.00</td>\n",
       "      <td>-886000.00</td>\n",
       "      <td>-481000.00</td>\n",
       "    </tr>\n",
       "    <tr>\n",
       "      <th>Total Unusual Items</th>\n",
       "      <td>-714000.00</td>\n",
       "      <td>-531000.00</td>\n",
       "      <td>-6000.00</td>\n",
       "      <td>-886000.00</td>\n",
       "      <td>-481000.00</td>\n",
       "    </tr>\n",
       "    <tr>\n",
       "      <th>Normalized EBITDA</th>\n",
       "      <td>19149000.00</td>\n",
       "      <td>18002000.00</td>\n",
       "      <td>16800000.00</td>\n",
       "      <td>16444000.00</td>\n",
       "      <td>16844000.00</td>\n",
       "    </tr>\n",
       "    <tr>\n",
       "      <th>Tax Rate for Calcs</th>\n",
       "      <td>0.00</td>\n",
       "      <td>0.00</td>\n",
       "      <td>0.00</td>\n",
       "      <td>0.00</td>\n",
       "      <td>0.00</td>\n",
       "    </tr>\n",
       "    <tr>\n",
       "      <th>Tax Effect of Unusual Items</th>\n",
       "      <td>-118554.00</td>\n",
       "      <td>-93987.00</td>\n",
       "      <td>-1104.00</td>\n",
       "      <td>-178086.00</td>\n",
       "      <td>-94757.00</td>\n",
       "    </tr>\n",
       "  </tbody>\n",
       "</table>\n",
       "</div>"
      ],
      "text/plain": [
       "                                                            ttm    7/31/2023  \\\n",
       "Total Revenue                                       58034000.00  56998000.00   \n",
       "Cost of Revenue                                     21070000.00  21245000.00   \n",
       "Gross Profit                                        36964000.00  35753000.00   \n",
       "Operating Expense                                   20541000.00  20191000.00   \n",
       "Operating Income                                    16423000.00  15562000.00   \n",
       "Net Non Operating Interest Income Expense             715000.00    535000.00   \n",
       "Other Income Expense                                 -853000.00   -779000.00   \n",
       "Pretax Income                                       16285000.00  15318000.00   \n",
       "Tax Provision                                        2704000.00   2705000.00   \n",
       "Net Income Common Stockholders                      13581000.00  12613000.00   \n",
       "Diluted NI Available to Com Stockholders            13581000.00  12613000.00   \n",
       "Basic EPS                                                  3.08         3.08   \n",
       "Diluted EPS                                                3.07         3.07   \n",
       "Basic Average Shares                                 4093000.00   4093000.00   \n",
       "Diluted Average Shares                               4105000.00   4105000.00   \n",
       "Total Operating Income as Reported                  15767000.00  15031000.00   \n",
       "Total Expenses                                      41611000.00  41436000.00   \n",
       "Net Income from Continuing & Discontinued Opera...  13581000.00  12613000.00   \n",
       "Normalized Income                                   14176446.00  13050013.00   \n",
       "Interest Income                                      1153000.00    962000.00   \n",
       "Interest Expense                                      438000.00    427000.00   \n",
       "Net Interest Income                                   715000.00    535000.00   \n",
       "EBIT                                                16723000.00  15745000.00   \n",
       "EBITDA                                              18435000.00  17471000.00   \n",
       "Reconciled Cost of Revenue                          19636000.00  19801000.00   \n",
       "Reconciled Depreciation                              1712000.00   1726000.00   \n",
       "Net Income from Continuing Operation Net Minori...  13581000.00  12613000.00   \n",
       "Total Unusual Items Excluding Goodwill               -714000.00   -531000.00   \n",
       "Total Unusual Items                                  -714000.00   -531000.00   \n",
       "Normalized EBITDA                                   19149000.00  18002000.00   \n",
       "Tax Rate for Calcs                                         0.00         0.00   \n",
       "Tax Effect of Unusual Items                          -118554.00    -93987.00   \n",
       "\n",
       "                                                      7/31/2022    7/31/2021  \\\n",
       "Total Revenue                                       51557000.00  49818000.00   \n",
       "Cost of Revenue                                     19309000.00  17924000.00   \n",
       "Gross Profit                                        32248000.00  31894000.00   \n",
       "Operating Expense                                   18273000.00  18175000.00   \n",
       "Operating Income                                    13975000.00  13719000.00   \n",
       "Net Non Operating Interest Income Expense             116000.00    184000.00   \n",
       "Other Income Expense                                  386000.00   -641000.00   \n",
       "Pretax Income                                       14477000.00  13262000.00   \n",
       "Tax Provision                                        2665000.00   2671000.00   \n",
       "Net Income Common Stockholders                      11812000.00  10591000.00   \n",
       "Diluted NI Available to Com Stockholders            11812000.00  10591000.00   \n",
       "Basic EPS                                                  2.83         2.51   \n",
       "Diluted EPS                                                2.82         2.50   \n",
       "Basic Average Shares                                 4170000.00   4222000.00   \n",
       "Diluted Average Shares                               4192000.00   4236000.00   \n",
       "Total Operating Income as Reported                  13969000.00  12833000.00   \n",
       "Total Expenses                                      37582000.00  36099000.00   \n",
       "Net Income from Continuing & Discontinued Opera...  11812000.00  10591000.00   \n",
       "Normalized Income                                   11816896.00  11298914.00   \n",
       "Interest Income                                       476000.00    618000.00   \n",
       "Interest Expense                                      360000.00    434000.00   \n",
       "Net Interest Income                                   116000.00    184000.00   \n",
       "EBIT                                                14837000.00  13696000.00   \n",
       "EBITDA                                              16794000.00  15558000.00   \n",
       "Reconciled Cost of Revenue                          17665000.00  16277000.00   \n",
       "Reconciled Depreciation                              1957000.00   1862000.00   \n",
       "Net Income from Continuing Operation Net Minori...  11812000.00  10591000.00   \n",
       "Total Unusual Items Excluding Goodwill                 -6000.00   -886000.00   \n",
       "Total Unusual Items                                    -6000.00   -886000.00   \n",
       "Normalized EBITDA                                   16800000.00  16444000.00   \n",
       "Tax Rate for Calcs                                         0.00         0.00   \n",
       "Tax Effect of Unusual Items                            -1104.00   -178086.00   \n",
       "\n",
       "                                                      7/31/2020  \n",
       "Total Revenue                                       49301000.00  \n",
       "Cost of Revenue                                     17618000.00  \n",
       "Gross Profit                                        31683000.00  \n",
       "Operating Expense                                   17582000.00  \n",
       "Operating Income                                    14101000.00  \n",
       "Net Non Operating Interest Income Expense             335000.00  \n",
       "Other Income Expense                                 -466000.00  \n",
       "Pretax Income                                       13970000.00  \n",
       "Tax Provision                                        2756000.00  \n",
       "Net Income Common Stockholders                      11214000.00  \n",
       "Diluted NI Available to Com Stockholders            11214000.00  \n",
       "Basic EPS                                                  2.65  \n",
       "Diluted EPS                                                2.64  \n",
       "Basic Average Shares                                 4236000.00  \n",
       "Diluted Average Shares                               4254000.00  \n",
       "Total Operating Income as Reported                  13620000.00  \n",
       "Total Expenses                                      35200000.00  \n",
       "Net Income from Continuing & Discontinued Opera...  11214000.00  \n",
       "Normalized Income                                   11600243.00  \n",
       "Interest Income                                       920000.00  \n",
       "Interest Expense                                      585000.00  \n",
       "Net Interest Income                                   335000.00  \n",
       "EBIT                                                14555000.00  \n",
       "EBITDA                                              16363000.00  \n",
       "Reconciled Cost of Revenue                          15951000.00  \n",
       "Reconciled Depreciation                              1808000.00  \n",
       "Net Income from Continuing Operation Net Minori...  11214000.00  \n",
       "Total Unusual Items Excluding Goodwill               -481000.00  \n",
       "Total Unusual Items                                  -481000.00  \n",
       "Normalized EBITDA                                   16844000.00  \n",
       "Tax Rate for Calcs                                         0.00  \n",
       "Tax Effect of Unusual Items                           -94757.00  "
      ]
     },
     "execution_count": 9,
     "metadata": {},
     "output_type": "execute_result"
    }
   ],
   "source": [
    "income_statatement_dict['CSCO']"
   ]
  }
 ],
 "metadata": {
  "kernelspec": {
   "display_name": "Python 3 (ipykernel)",
   "language": "python",
   "name": "python3"
  },
  "language_info": {
   "codemirror_mode": {
    "name": "ipython",
    "version": 3
   },
   "file_extension": ".py",
   "mimetype": "text/x-python",
   "name": "python",
   "nbconvert_exporter": "python",
   "pygments_lexer": "ipython3",
   "version": "3.10.9"
  }
 },
 "nbformat": 4,
 "nbformat_minor": 5
}
