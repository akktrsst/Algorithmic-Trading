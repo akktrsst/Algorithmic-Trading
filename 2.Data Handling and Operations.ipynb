{
 "cells": [
  {
   "cell_type": "markdown",
   "id": "15bca1b7-5a55-495a-863e-ddef297d1f7e",
   "metadata": {},
   "source": [
    "### Basic Data Handling and Operations "
   ]
  },
  {
   "cell_type": "code",
   "execution_count": 2,
   "id": "103ee86e-5815-4566-8efe-edc3eb8cfc7c",
   "metadata": {
    "tags": []
   },
   "outputs": [
    {
     "name": "stdout",
     "output_type": "stream",
     "text": [
      "[(1, 4), (4, -9), (7, 12), (9, -4), (15, 7)]\n"
     ]
    }
   ],
   "source": [
    "def find_peaks(array):\n",
    "    N = len(array)\n",
    "    peak = array[0]\n",
    "    index = 0\n",
    "    output = []\n",
    "\n",
    "    for x in range(1, N):\n",
    "        if array[x] * array[x - 1] > 0:\n",
    "            if peak < 0 and array[x] < peak:\n",
    "                peak = array[x]\n",
    "                index = x\n",
    "            if peak >= 0 and array[x] > peak:\n",
    "                peak = array[x]\n",
    "                index = x\n",
    "        else:\n",
    "            output.append((index, peak))\n",
    "            peak = array[x]\n",
    "            index = x\n",
    "\n",
    "    output.append((index, peak))\n",
    "    return output\n",
    "\n",
    "# Example usage with the provided array\n",
    "input_array = [1, 4, 2, -2, -9, 10, 2, 12, 2, -4, -4, -4, -4, 2, 6, 7]\n",
    "result = find_peaks(input_array)\n",
    "print(result)\n"
   ]
  },
  {
   "cell_type": "markdown",
   "id": "28165c66-6cbc-4b6a-a92c-6ac52a781b0b",
   "metadata": {
    "tags": []
   },
   "source": [
    "#### Handling with NaN Values"
   ]
  },
  {
   "cell_type": "code",
   "execution_count": 2,
   "id": "05cfaf11-d51c-4d4f-9679-732573254551",
   "metadata": {
    "tags": []
   },
   "outputs": [
    {
     "name": "stderr",
     "output_type": "stream",
     "text": [
      "C:\\ProgramData\\Anaconda3\\envs\\API\\lib\\site-packages\\numpy\\_distributor_init.py:30: UserWarning: loaded more than 1 DLL from .libs:\n",
      "C:\\ProgramData\\Anaconda3\\envs\\API\\lib\\site-packages\\numpy\\.libs\\libopenblas.el2c6ple4zyw3eceviv3oxxgrn2nrfm2.gfortran-win_amd64.dll\n",
      "C:\\ProgramData\\Anaconda3\\envs\\API\\lib\\site-packages\\numpy\\.libs\\libopenblas.fb5ae2tyxyh2ijrdkgdgq3xbklktf43h.gfortran-win_amd64.dll\n",
      "C:\\ProgramData\\Anaconda3\\envs\\API\\lib\\site-packages\\numpy\\.libs\\libopenblas64__v0.3.23-gcc_10_3_0.dll\n",
      "  warnings.warn(\"loaded more than 1 DLL from .libs:\"\n"
     ]
    }
   ],
   "source": [
    "import datetime as dt\n",
    "import yfinance as yf\n",
    "import pandas as pd"
   ]
  },
  {
   "cell_type": "code",
   "execution_count": 13,
   "id": "2d7e6cd0-4783-4743-8c13-b575c38c97bc",
   "metadata": {
    "tags": []
   },
   "outputs": [
    {
     "name": "stdout",
     "output_type": "stream",
     "text": [
      "[*********************100%%**********************]  1 of 1 completed\n",
      "[*********************100%%**********************]  1 of 1 completed\n",
      "[*********************100%%**********************]  1 of 1 completed"
     ]
    },
    {
     "name": "stderr",
     "output_type": "stream",
     "text": [
      "\n",
      "1 Failed download:\n",
      "['FB']: Exception('%ticker%: No timezone found, symbol may be delisted')\n"
     ]
    },
    {
     "name": "stdout",
     "output_type": "stream",
     "text": [
      "\n",
      "[*********************100%%**********************]  1 of 1 completed\n"
     ]
    }
   ],
   "source": [
    "## Indian stocks end with suffixs of .NS\n",
    "stocks = [\"AMZN\", \"MSFT\", \"FB\", \"GOOG\"] ## For these tickers, we want data\n",
    "start = dt.datetime.today()-dt.timedelta(3650) ## Want to get 30 days back data from today\n",
    "end = dt.datetime.today()\n",
    "cl_price = pd.DataFrame() # Empty dataframe which will be filled with closing prices for all the stocks\n",
    "## Looking over tickers and creating a datafram with close prices\n",
    "for ticker in stocks:\n",
    "    cl_price[ticker] = yf.download(ticker, start, end)[\"Adj Close\"]"
   ]
  },
  {
   "cell_type": "code",
   "execution_count": 14,
   "id": "4fe3c6a7-9a6c-4228-8442-9978bc7e8e4d",
   "metadata": {
    "tags": []
   },
   "outputs": [
    {
     "data": {
      "text/html": [
       "<div>\n",
       "<style scoped>\n",
       "    .dataframe tbody tr th:only-of-type {\n",
       "        vertical-align: middle;\n",
       "    }\n",
       "\n",
       "    .dataframe tbody tr th {\n",
       "        vertical-align: top;\n",
       "    }\n",
       "\n",
       "    .dataframe thead th {\n",
       "        text-align: right;\n",
       "    }\n",
       "</style>\n",
       "<table border=\"1\" class=\"dataframe\">\n",
       "  <thead>\n",
       "    <tr style=\"text-align: right;\">\n",
       "      <th></th>\n",
       "      <th>AMZN</th>\n",
       "      <th>MSFT</th>\n",
       "      <th>FB</th>\n",
       "      <th>GOOG</th>\n",
       "    </tr>\n",
       "    <tr>\n",
       "      <th>Date</th>\n",
       "      <th></th>\n",
       "      <th></th>\n",
       "      <th></th>\n",
       "      <th></th>\n",
       "    </tr>\n",
       "  </thead>\n",
       "  <tbody>\n",
       "    <tr>\n",
       "      <th>2013-12-23</th>\n",
       "      <td>20.146000</td>\n",
       "      <td>30.836105</td>\n",
       "      <td>NaN</td>\n",
       "      <td>27.773397</td>\n",
       "    </tr>\n",
       "    <tr>\n",
       "      <th>2013-12-24</th>\n",
       "      <td>19.959999</td>\n",
       "      <td>31.223448</td>\n",
       "      <td>NaN</td>\n",
       "      <td>27.692204</td>\n",
       "    </tr>\n",
       "    <tr>\n",
       "      <th>2013-12-26</th>\n",
       "      <td>20.219500</td>\n",
       "      <td>31.526596</td>\n",
       "      <td>NaN</td>\n",
       "      <td>27.832178</td>\n",
       "    </tr>\n",
       "    <tr>\n",
       "      <th>2013-12-27</th>\n",
       "      <td>19.903999</td>\n",
       "      <td>31.400290</td>\n",
       "      <td>NaN</td>\n",
       "      <td>27.855591</td>\n",
       "    </tr>\n",
       "    <tr>\n",
       "      <th>2013-12-30</th>\n",
       "      <td>19.668501</td>\n",
       "      <td>31.400290</td>\n",
       "      <td>NaN</td>\n",
       "      <td>27.632925</td>\n",
       "    </tr>\n",
       "  </tbody>\n",
       "</table>\n",
       "</div>"
      ],
      "text/plain": [
       "                 AMZN       MSFT  FB       GOOG\n",
       "Date                                           \n",
       "2013-12-23  20.146000  30.836105 NaN  27.773397\n",
       "2013-12-24  19.959999  31.223448 NaN  27.692204\n",
       "2013-12-26  20.219500  31.526596 NaN  27.832178\n",
       "2013-12-27  19.903999  31.400290 NaN  27.855591\n",
       "2013-12-30  19.668501  31.400290 NaN  27.632925"
      ]
     },
     "execution_count": 14,
     "metadata": {},
     "output_type": "execute_result"
    }
   ],
   "source": [
    "cl_price.head()"
   ]
  },
  {
   "cell_type": "code",
   "execution_count": 15,
   "id": "ae87dad3-e337-4f21-80ba-91313f46fd7d",
   "metadata": {
    "tags": []
   },
   "outputs": [],
   "source": [
    "## Filling nan values\n",
    "# cl_price.fillna({'FB':0,'GOOG':1})\n",
    "# cl_price.fillna(method='bfill', axis=1) #next values based the next column\n",
    "cl_price.fillna(method='bfill', axis=0, inplace=True) #next values based the next row"
   ]
  },
  {
   "cell_type": "code",
   "execution_count": 16,
   "id": "55855c05-84ce-4118-bd5f-0a13ccbada14",
   "metadata": {
    "tags": []
   },
   "outputs": [],
   "source": [
    "#dropping NaN values\n",
    "cl_price.dropna(axis=1,how='any', inplace=True)## Row will delete if axis=0 and if axis=1 column will delete"
   ]
  },
  {
   "cell_type": "markdown",
   "id": "49f0150b-74c2-44b0-bd3b-9e2b34f4c79b",
   "metadata": {},
   "source": [
    "#### Basic Statistics"
   ]
  },
  {
   "cell_type": "code",
   "execution_count": 17,
   "id": "ea42f336-cb52-4aba-bac7-8333584e1a1e",
   "metadata": {
    "tags": []
   },
   "outputs": [
    {
     "data": {
      "text/plain": [
       "AMZN     84.089578\n",
       "MSFT    143.931042\n",
       "GOOG     68.771022\n",
       "dtype: float64"
      ]
     },
     "execution_count": 17,
     "metadata": {},
     "output_type": "execute_result"
    }
   ],
   "source": [
    "cl_price.mean()"
   ]
  },
  {
   "cell_type": "code",
   "execution_count": 18,
   "id": "b6d37011-9434-4bec-b4eb-bdd6aea306c3",
   "metadata": {
    "tags": []
   },
   "outputs": [
    {
     "data": {
      "text/plain": [
       "AMZN     51.385375\n",
       "MSFT    102.084485\n",
       "GOOG     37.184544\n",
       "dtype: float64"
      ]
     },
     "execution_count": 18,
     "metadata": {},
     "output_type": "execute_result"
    }
   ],
   "source": [
    "cl_price.std()"
   ]
  },
  {
   "cell_type": "code",
   "execution_count": 21,
   "id": "e4b9bcfa-b4b1-4f51-bb04-8866fcf72721",
   "metadata": {
    "tags": []
   },
   "outputs": [
    {
     "data": {
      "text/plain": [
       "AMZN     86.614502\n",
       "MSFT    103.599808\n",
       "GOOG     56.859751\n",
       "dtype: float64"
      ]
     },
     "execution_count": 21,
     "metadata": {},
     "output_type": "execute_result"
    }
   ],
   "source": [
    "cl_price.median()"
   ]
  },
  {
   "cell_type": "code",
   "execution_count": 23,
   "id": "ee935250-e59b-4c87-be71-06f72cb7c102",
   "metadata": {
    "tags": []
   },
   "outputs": [
    {
     "data": {
      "text/html": [
       "<div>\n",
       "<style scoped>\n",
       "    .dataframe tbody tr th:only-of-type {\n",
       "        vertical-align: middle;\n",
       "    }\n",
       "\n",
       "    .dataframe tbody tr th {\n",
       "        vertical-align: top;\n",
       "    }\n",
       "\n",
       "    .dataframe thead th {\n",
       "        text-align: right;\n",
       "    }\n",
       "</style>\n",
       "<table border=\"1\" class=\"dataframe\">\n",
       "  <thead>\n",
       "    <tr style=\"text-align: right;\">\n",
       "      <th></th>\n",
       "      <th>AMZN</th>\n",
       "      <th>MSFT</th>\n",
       "      <th>GOOG</th>\n",
       "    </tr>\n",
       "  </thead>\n",
       "  <tbody>\n",
       "    <tr>\n",
       "      <th>count</th>\n",
       "      <td>2516.000000</td>\n",
       "      <td>2516.000000</td>\n",
       "      <td>2516.000000</td>\n",
       "    </tr>\n",
       "    <tr>\n",
       "      <th>mean</th>\n",
       "      <td>84.089578</td>\n",
       "      <td>143.931042</td>\n",
       "      <td>68.771022</td>\n",
       "    </tr>\n",
       "    <tr>\n",
       "      <th>std</th>\n",
       "      <td>51.385375</td>\n",
       "      <td>102.084485</td>\n",
       "      <td>37.184544</td>\n",
       "    </tr>\n",
       "    <tr>\n",
       "      <th>min</th>\n",
       "      <td>14.347500</td>\n",
       "      <td>29.455145</td>\n",
       "      <td>24.560070</td>\n",
       "    </tr>\n",
       "    <tr>\n",
       "      <th>25%</th>\n",
       "      <td>36.130625</td>\n",
       "      <td>49.492015</td>\n",
       "      <td>37.498875</td>\n",
       "    </tr>\n",
       "    <tr>\n",
       "      <th>50%</th>\n",
       "      <td>86.614502</td>\n",
       "      <td>103.599808</td>\n",
       "      <td>56.859751</td>\n",
       "    </tr>\n",
       "    <tr>\n",
       "      <th>75%</th>\n",
       "      <td>126.622501</td>\n",
       "      <td>238.788563</td>\n",
       "      <td>99.902502</td>\n",
       "    </tr>\n",
       "    <tr>\n",
       "      <th>max</th>\n",
       "      <td>186.570496</td>\n",
       "      <td>382.700012</td>\n",
       "      <td>150.709000</td>\n",
       "    </tr>\n",
       "  </tbody>\n",
       "</table>\n",
       "</div>"
      ],
      "text/plain": [
       "              AMZN         MSFT         GOOG\n",
       "count  2516.000000  2516.000000  2516.000000\n",
       "mean     84.089578   143.931042    68.771022\n",
       "std      51.385375   102.084485    37.184544\n",
       "min      14.347500    29.455145    24.560070\n",
       "25%      36.130625    49.492015    37.498875\n",
       "50%      86.614502   103.599808    56.859751\n",
       "75%     126.622501   238.788563    99.902502\n",
       "max     186.570496   382.700012   150.709000"
      ]
     },
     "execution_count": 23,
     "metadata": {},
     "output_type": "execute_result"
    }
   ],
   "source": [
    "cl_price.describe()"
   ]
  },
  {
   "cell_type": "code",
   "execution_count": 24,
   "id": "14d5ca16-74ab-4b71-adc3-66ae533df65b",
   "metadata": {
    "tags": []
   },
   "outputs": [
    {
     "data": {
      "text/html": [
       "<div>\n",
       "<style scoped>\n",
       "    .dataframe tbody tr th:only-of-type {\n",
       "        vertical-align: middle;\n",
       "    }\n",
       "\n",
       "    .dataframe tbody tr th {\n",
       "        vertical-align: top;\n",
       "    }\n",
       "\n",
       "    .dataframe thead th {\n",
       "        text-align: right;\n",
       "    }\n",
       "</style>\n",
       "<table border=\"1\" class=\"dataframe\">\n",
       "  <thead>\n",
       "    <tr style=\"text-align: right;\">\n",
       "      <th></th>\n",
       "      <th>AMZN</th>\n",
       "      <th>MSFT</th>\n",
       "      <th>GOOG</th>\n",
       "    </tr>\n",
       "    <tr>\n",
       "      <th>Date</th>\n",
       "      <th></th>\n",
       "      <th></th>\n",
       "      <th></th>\n",
       "    </tr>\n",
       "  </thead>\n",
       "  <tbody>\n",
       "    <tr>\n",
       "      <th>2013-12-23</th>\n",
       "      <td>20.146000</td>\n",
       "      <td>30.836105</td>\n",
       "      <td>27.773397</td>\n",
       "    </tr>\n",
       "    <tr>\n",
       "      <th>2013-12-24</th>\n",
       "      <td>19.959999</td>\n",
       "      <td>31.223448</td>\n",
       "      <td>27.692204</td>\n",
       "    </tr>\n",
       "    <tr>\n",
       "      <th>2013-12-26</th>\n",
       "      <td>20.219500</td>\n",
       "      <td>31.526596</td>\n",
       "      <td>27.832178</td>\n",
       "    </tr>\n",
       "    <tr>\n",
       "      <th>2013-12-27</th>\n",
       "      <td>19.903999</td>\n",
       "      <td>31.400290</td>\n",
       "      <td>27.855591</td>\n",
       "    </tr>\n",
       "    <tr>\n",
       "      <th>2013-12-30</th>\n",
       "      <td>19.668501</td>\n",
       "      <td>31.400290</td>\n",
       "      <td>27.632925</td>\n",
       "    </tr>\n",
       "  </tbody>\n",
       "</table>\n",
       "</div>"
      ],
      "text/plain": [
       "                 AMZN       MSFT       GOOG\n",
       "Date                                       \n",
       "2013-12-23  20.146000  30.836105  27.773397\n",
       "2013-12-24  19.959999  31.223448  27.692204\n",
       "2013-12-26  20.219500  31.526596  27.832178\n",
       "2013-12-27  19.903999  31.400290  27.855591\n",
       "2013-12-30  19.668501  31.400290  27.632925"
      ]
     },
     "execution_count": 24,
     "metadata": {},
     "output_type": "execute_result"
    }
   ],
   "source": [
    "cl_price.head()"
   ]
  },
  {
   "cell_type": "code",
   "execution_count": 25,
   "id": "8649a166-6488-497b-8776-353bd580c0df",
   "metadata": {
    "tags": []
   },
   "outputs": [
    {
     "data": {
      "text/html": [
       "<div>\n",
       "<style scoped>\n",
       "    .dataframe tbody tr th:only-of-type {\n",
       "        vertical-align: middle;\n",
       "    }\n",
       "\n",
       "    .dataframe tbody tr th {\n",
       "        vertical-align: top;\n",
       "    }\n",
       "\n",
       "    .dataframe thead th {\n",
       "        text-align: right;\n",
       "    }\n",
       "</style>\n",
       "<table border=\"1\" class=\"dataframe\">\n",
       "  <thead>\n",
       "    <tr style=\"text-align: right;\">\n",
       "      <th></th>\n",
       "      <th>AMZN</th>\n",
       "      <th>MSFT</th>\n",
       "      <th>GOOG</th>\n",
       "    </tr>\n",
       "    <tr>\n",
       "      <th>Date</th>\n",
       "      <th></th>\n",
       "      <th></th>\n",
       "      <th></th>\n",
       "    </tr>\n",
       "  </thead>\n",
       "  <tbody>\n",
       "    <tr>\n",
       "      <th>2023-12-14</th>\n",
       "      <td>147.419998</td>\n",
       "      <td>365.929993</td>\n",
       "      <td>133.199997</td>\n",
       "    </tr>\n",
       "    <tr>\n",
       "      <th>2023-12-15</th>\n",
       "      <td>149.970001</td>\n",
       "      <td>370.730011</td>\n",
       "      <td>133.839996</td>\n",
       "    </tr>\n",
       "    <tr>\n",
       "      <th>2023-12-18</th>\n",
       "      <td>154.070007</td>\n",
       "      <td>372.649994</td>\n",
       "      <td>137.190002</td>\n",
       "    </tr>\n",
       "    <tr>\n",
       "      <th>2023-12-19</th>\n",
       "      <td>153.789993</td>\n",
       "      <td>373.260010</td>\n",
       "      <td>138.100006</td>\n",
       "    </tr>\n",
       "    <tr>\n",
       "      <th>2023-12-20</th>\n",
       "      <td>154.824997</td>\n",
       "      <td>375.769989</td>\n",
       "      <td>141.960007</td>\n",
       "    </tr>\n",
       "  </tbody>\n",
       "</table>\n",
       "</div>"
      ],
      "text/plain": [
       "                  AMZN        MSFT        GOOG\n",
       "Date                                          \n",
       "2023-12-14  147.419998  365.929993  133.199997\n",
       "2023-12-15  149.970001  370.730011  133.839996\n",
       "2023-12-18  154.070007  372.649994  137.190002\n",
       "2023-12-19  153.789993  373.260010  138.100006\n",
       "2023-12-20  154.824997  375.769989  141.960007"
      ]
     },
     "execution_count": 25,
     "metadata": {},
     "output_type": "execute_result"
    }
   ],
   "source": [
    "cl_price.tail()"
   ]
  },
  {
   "cell_type": "code",
   "execution_count": 27,
   "id": "d4bb6db7-1a6e-47ff-8964-13310ad6bf9d",
   "metadata": {
    "tags": []
   },
   "outputs": [],
   "source": [
    "daily_return=cl_price.pct_change()"
   ]
  },
  {
   "cell_type": "code",
   "execution_count": 28,
   "id": "67e24e8d-5bfb-4998-9a77-bdb720e1e04b",
   "metadata": {
    "tags": []
   },
   "outputs": [
    {
     "data": {
      "text/html": [
       "<div>\n",
       "<style scoped>\n",
       "    .dataframe tbody tr th:only-of-type {\n",
       "        vertical-align: middle;\n",
       "    }\n",
       "\n",
       "    .dataframe tbody tr th {\n",
       "        vertical-align: top;\n",
       "    }\n",
       "\n",
       "    .dataframe thead th {\n",
       "        text-align: right;\n",
       "    }\n",
       "</style>\n",
       "<table border=\"1\" class=\"dataframe\">\n",
       "  <thead>\n",
       "    <tr style=\"text-align: right;\">\n",
       "      <th></th>\n",
       "      <th>AMZN</th>\n",
       "      <th>MSFT</th>\n",
       "      <th>GOOG</th>\n",
       "    </tr>\n",
       "    <tr>\n",
       "      <th>Date</th>\n",
       "      <th></th>\n",
       "      <th></th>\n",
       "      <th></th>\n",
       "    </tr>\n",
       "  </thead>\n",
       "  <tbody>\n",
       "    <tr>\n",
       "      <th>2013-12-23</th>\n",
       "      <td>NaN</td>\n",
       "      <td>NaN</td>\n",
       "      <td>NaN</td>\n",
       "    </tr>\n",
       "    <tr>\n",
       "      <th>2013-12-24</th>\n",
       "      <td>-0.009233</td>\n",
       "      <td>0.012561</td>\n",
       "      <td>-0.002923</td>\n",
       "    </tr>\n",
       "    <tr>\n",
       "      <th>2013-12-26</th>\n",
       "      <td>0.013001</td>\n",
       "      <td>0.009709</td>\n",
       "      <td>0.005055</td>\n",
       "    </tr>\n",
       "    <tr>\n",
       "      <th>2013-12-27</th>\n",
       "      <td>-0.015604</td>\n",
       "      <td>-0.004006</td>\n",
       "      <td>0.000841</td>\n",
       "    </tr>\n",
       "    <tr>\n",
       "      <th>2013-12-30</th>\n",
       "      <td>-0.011832</td>\n",
       "      <td>0.000000</td>\n",
       "      <td>-0.007994</td>\n",
       "    </tr>\n",
       "  </tbody>\n",
       "</table>\n",
       "</div>"
      ],
      "text/plain": [
       "                AMZN      MSFT      GOOG\n",
       "Date                                    \n",
       "2013-12-23       NaN       NaN       NaN\n",
       "2013-12-24 -0.009233  0.012561 -0.002923\n",
       "2013-12-26  0.013001  0.009709  0.005055\n",
       "2013-12-27 -0.015604 -0.004006  0.000841\n",
       "2013-12-30 -0.011832  0.000000 -0.007994"
      ]
     },
     "execution_count": 28,
     "metadata": {},
     "output_type": "execute_result"
    }
   ],
   "source": [
    "daily_return.head()"
   ]
  },
  {
   "cell_type": "code",
   "execution_count": 30,
   "id": "dad1573a-0db4-4661-85e3-5741b5886baa",
   "metadata": {
    "tags": []
   },
   "outputs": [],
   "source": [
    "daily_return1=cl_price/cl_price.shift(-2)-1"
   ]
  },
  {
   "cell_type": "code",
   "execution_count": 31,
   "id": "cfd3acc6-47bc-4cb4-b7a7-fd4679d2fa7a",
   "metadata": {
    "tags": []
   },
   "outputs": [
    {
     "data": {
      "text/html": [
       "<div>\n",
       "<style scoped>\n",
       "    .dataframe tbody tr th:only-of-type {\n",
       "        vertical-align: middle;\n",
       "    }\n",
       "\n",
       "    .dataframe tbody tr th {\n",
       "        vertical-align: top;\n",
       "    }\n",
       "\n",
       "    .dataframe thead th {\n",
       "        text-align: right;\n",
       "    }\n",
       "</style>\n",
       "<table border=\"1\" class=\"dataframe\">\n",
       "  <thead>\n",
       "    <tr style=\"text-align: right;\">\n",
       "      <th></th>\n",
       "      <th>AMZN</th>\n",
       "      <th>MSFT</th>\n",
       "      <th>GOOG</th>\n",
       "    </tr>\n",
       "    <tr>\n",
       "      <th>Date</th>\n",
       "      <th></th>\n",
       "      <th></th>\n",
       "      <th></th>\n",
       "    </tr>\n",
       "  </thead>\n",
       "  <tbody>\n",
       "    <tr>\n",
       "      <th>2013-12-23</th>\n",
       "      <td>-0.003635</td>\n",
       "      <td>-0.021902</td>\n",
       "      <td>-0.002112</td>\n",
       "    </tr>\n",
       "    <tr>\n",
       "      <th>2013-12-24</th>\n",
       "      <td>0.002813</td>\n",
       "      <td>-0.005632</td>\n",
       "      <td>-0.005866</td>\n",
       "    </tr>\n",
       "    <tr>\n",
       "      <th>2013-12-26</th>\n",
       "      <td>0.028014</td>\n",
       "      <td>0.004022</td>\n",
       "      <td>0.007211</td>\n",
       "    </tr>\n",
       "    <tr>\n",
       "      <th>2013-12-27</th>\n",
       "      <td>-0.001780</td>\n",
       "      <td>-0.003207</td>\n",
       "      <td>-0.002061</td>\n",
       "    </tr>\n",
       "    <tr>\n",
       "      <th>2013-12-30</th>\n",
       "      <td>-0.011559</td>\n",
       "      <td>0.003498</td>\n",
       "      <td>-0.003288</td>\n",
       "    </tr>\n",
       "    <tr>\n",
       "      <th>...</th>\n",
       "      <td>...</td>\n",
       "      <td>...</td>\n",
       "      <td>...</td>\n",
       "    </tr>\n",
       "    <tr>\n",
       "      <th>2023-12-14</th>\n",
       "      <td>-0.043162</td>\n",
       "      <td>-0.018033</td>\n",
       "      <td>-0.029084</td>\n",
       "    </tr>\n",
       "    <tr>\n",
       "      <th>2023-12-15</th>\n",
       "      <td>-0.024839</td>\n",
       "      <td>-0.006778</td>\n",
       "      <td>-0.030847</td>\n",
       "    </tr>\n",
       "    <tr>\n",
       "      <th>2023-12-18</th>\n",
       "      <td>-0.004876</td>\n",
       "      <td>-0.008303</td>\n",
       "      <td>-0.033601</td>\n",
       "    </tr>\n",
       "    <tr>\n",
       "      <th>2023-12-19</th>\n",
       "      <td>NaN</td>\n",
       "      <td>NaN</td>\n",
       "      <td>NaN</td>\n",
       "    </tr>\n",
       "    <tr>\n",
       "      <th>2023-12-20</th>\n",
       "      <td>NaN</td>\n",
       "      <td>NaN</td>\n",
       "      <td>NaN</td>\n",
       "    </tr>\n",
       "  </tbody>\n",
       "</table>\n",
       "<p>2516 rows × 3 columns</p>\n",
       "</div>"
      ],
      "text/plain": [
       "                AMZN      MSFT      GOOG\n",
       "Date                                    \n",
       "2013-12-23 -0.003635 -0.021902 -0.002112\n",
       "2013-12-24  0.002813 -0.005632 -0.005866\n",
       "2013-12-26  0.028014  0.004022  0.007211\n",
       "2013-12-27 -0.001780 -0.003207 -0.002061\n",
       "2013-12-30 -0.011559  0.003498 -0.003288\n",
       "...              ...       ...       ...\n",
       "2023-12-14 -0.043162 -0.018033 -0.029084\n",
       "2023-12-15 -0.024839 -0.006778 -0.030847\n",
       "2023-12-18 -0.004876 -0.008303 -0.033601\n",
       "2023-12-19       NaN       NaN       NaN\n",
       "2023-12-20       NaN       NaN       NaN\n",
       "\n",
       "[2516 rows x 3 columns]"
      ]
     },
     "execution_count": 31,
     "metadata": {},
     "output_type": "execute_result"
    }
   ],
   "source": [
    "daily_return1"
   ]
  },
  {
   "cell_type": "code",
   "execution_count": 33,
   "id": "8fd3ac9a-2898-4789-8515-86ad6ca9baaf",
   "metadata": {
    "tags": []
   },
   "outputs": [
    {
     "data": {
      "text/plain": [
       "AMZN    0.001029\n",
       "MSFT    0.001140\n",
       "GOOG    0.000803\n",
       "dtype: float64"
      ]
     },
     "execution_count": 33,
     "metadata": {},
     "output_type": "execute_result"
    }
   ],
   "source": [
    "daily_return.mean() ## Higher daily return can be check"
   ]
  },
  {
   "cell_type": "markdown",
   "id": "0ff982d2-25a6-4201-a595-f6a5cfc51e0a",
   "metadata": {},
   "source": [
    "#### Rolling Operations - Data in Motion"
   ]
  },
  {
   "cell_type": "code",
   "execution_count": 40,
   "id": "66788e4d-e9dd-4428-bd82-a6e1551ad72b",
   "metadata": {
    "tags": []
   },
   "outputs": [
    {
     "data": {
      "text/html": [
       "<div>\n",
       "<style scoped>\n",
       "    .dataframe tbody tr th:only-of-type {\n",
       "        vertical-align: middle;\n",
       "    }\n",
       "\n",
       "    .dataframe tbody tr th {\n",
       "        vertical-align: top;\n",
       "    }\n",
       "\n",
       "    .dataframe thead th {\n",
       "        text-align: right;\n",
       "    }\n",
       "</style>\n",
       "<table border=\"1\" class=\"dataframe\">\n",
       "  <thead>\n",
       "    <tr style=\"text-align: right;\">\n",
       "      <th></th>\n",
       "      <th>AMZN</th>\n",
       "      <th>MSFT</th>\n",
       "      <th>GOOG</th>\n",
       "    </tr>\n",
       "    <tr>\n",
       "      <th>Date</th>\n",
       "      <th></th>\n",
       "      <th></th>\n",
       "      <th></th>\n",
       "    </tr>\n",
       "  </thead>\n",
       "  <tbody>\n",
       "    <tr>\n",
       "      <th>2013-12-23</th>\n",
       "      <td>NaN</td>\n",
       "      <td>NaN</td>\n",
       "      <td>NaN</td>\n",
       "    </tr>\n",
       "    <tr>\n",
       "      <th>2013-12-24</th>\n",
       "      <td>NaN</td>\n",
       "      <td>NaN</td>\n",
       "      <td>NaN</td>\n",
       "    </tr>\n",
       "    <tr>\n",
       "      <th>2013-12-26</th>\n",
       "      <td>NaN</td>\n",
       "      <td>NaN</td>\n",
       "      <td>NaN</td>\n",
       "    </tr>\n",
       "    <tr>\n",
       "      <th>2013-12-27</th>\n",
       "      <td>NaN</td>\n",
       "      <td>NaN</td>\n",
       "      <td>NaN</td>\n",
       "    </tr>\n",
       "    <tr>\n",
       "      <th>2013-12-30</th>\n",
       "      <td>NaN</td>\n",
       "      <td>NaN</td>\n",
       "      <td>NaN</td>\n",
       "    </tr>\n",
       "    <tr>\n",
       "      <th>...</th>\n",
       "      <td>...</td>\n",
       "      <td>...</td>\n",
       "      <td>...</td>\n",
       "    </tr>\n",
       "    <tr>\n",
       "      <th>2023-12-14</th>\n",
       "      <td>0.001590</td>\n",
       "      <td>-0.000950</td>\n",
       "      <td>-0.000909</td>\n",
       "    </tr>\n",
       "    <tr>\n",
       "      <th>2023-12-15</th>\n",
       "      <td>0.003018</td>\n",
       "      <td>0.000329</td>\n",
       "      <td>-0.000389</td>\n",
       "    </tr>\n",
       "    <tr>\n",
       "      <th>2023-12-18</th>\n",
       "      <td>0.005229</td>\n",
       "      <td>0.000770</td>\n",
       "      <td>0.001921</td>\n",
       "    </tr>\n",
       "    <tr>\n",
       "      <th>2023-12-19</th>\n",
       "      <td>0.004589</td>\n",
       "      <td>0.000849</td>\n",
       "      <td>0.002350</td>\n",
       "    </tr>\n",
       "    <tr>\n",
       "      <th>2023-12-20</th>\n",
       "      <td>0.004783</td>\n",
       "      <td>0.001383</td>\n",
       "      <td>0.004677</td>\n",
       "    </tr>\n",
       "  </tbody>\n",
       "</table>\n",
       "<p>2516 rows × 3 columns</p>\n",
       "</div>"
      ],
      "text/plain": [
       "                AMZN      MSFT      GOOG\n",
       "Date                                    \n",
       "2013-12-23       NaN       NaN       NaN\n",
       "2013-12-24       NaN       NaN       NaN\n",
       "2013-12-26       NaN       NaN       NaN\n",
       "2013-12-27       NaN       NaN       NaN\n",
       "2013-12-30       NaN       NaN       NaN\n",
       "...              ...       ...       ...\n",
       "2023-12-14  0.001590 -0.000950 -0.000909\n",
       "2023-12-15  0.003018  0.000329 -0.000389\n",
       "2023-12-18  0.005229  0.000770  0.001921\n",
       "2023-12-19  0.004589  0.000849  0.002350\n",
       "2023-12-20  0.004783  0.001383  0.004677\n",
       "\n",
       "[2516 rows x 3 columns]"
      ]
     },
     "execution_count": 40,
     "metadata": {},
     "output_type": "execute_result"
    }
   ],
   "source": [
    "daily_return.rolling(window=10).mean()\n",
    "daily_return.rolling(window=10).std()\n",
    "daily_return.rolling(window=10).max()\n",
    "daily_return.rolling(window=10).min()\n",
    "daily_return.rolling(window=10).sum()\n",
    "## Exponential operation\n",
    "daily_return.ewm(com=10, min_periods=10).mean()"
   ]
  },
  {
   "cell_type": "markdown",
   "id": "134a1fe1-5874-49af-adbb-0f2224cdb489",
   "metadata": {},
   "source": [
    "#### Visualization"
   ]
  },
  {
   "cell_type": "code",
   "execution_count": 43,
   "id": "2a5aecfd-e6c0-412a-95ab-94ee3c14ee38",
   "metadata": {
    "tags": []
   },
   "outputs": [
    {
     "data": {
      "text/plain": [
       "array([[<AxesSubplot: xlabel='Date'>, <AxesSubplot: xlabel='Date'>],\n",
       "       [<AxesSubplot: xlabel='Date'>, <AxesSubplot: xlabel='Date'>]],\n",
       "      dtype=object)"
      ]
     },
     "execution_count": 43,
     "metadata": {},
     "output_type": "execute_result"
    },
    {
     "data": {
      "image/png": "[encoded data removed]",
      "text/plain": [
       "<Figure size 640x480 with 4 Axes>"
      ]
     },
     "metadata": {},
     "output_type": "display_data"
    }
   ],
   "source": [
    "cl_price.plot(subplots=True,layout=(2,2),title=\"Stock Price\", grid=True)"
   ]
  },
  {
   "cell_type": "code",
   "execution_count": 47,
   "id": "f43b680c-51f6-41c2-9b54-0b288021163c",
   "metadata": {
    "tags": []
   },
   "outputs": [
    {
     "data": {
      "text/plain": [
       "array([[<AxesSubplot: xlabel='Date'>, <AxesSubplot: xlabel='Date'>],\n",
       "       [<AxesSubplot: xlabel='Date'>, <AxesSubplot: xlabel='Date'>]],\n",
       "      dtype=object)"
      ]
     },
     "execution_count": 47,
     "metadata": {},
     "output_type": "execute_result"
    },
    {
     "data": {
      "image/png": "[encoded data removed]",
      "text/plain": [
       "<Figure size 640x480 with 4 Axes>"
      ]
     },
     "metadata": {},
     "output_type": "display_data"
    }
   ],
   "source": [
    "daily_return.plot(subplots=True,layout=(2,2),title=\"Stock Price\", grid=True)"
   ]
  },
  {
   "cell_type": "code",
   "execution_count": 49,
   "id": "1f7c0cc2-e3cd-4550-aae3-413b3fa81e9b",
   "metadata": {
    "tags": []
   },
   "outputs": [
    {
     "data": {
      "text/plain": [
       "<AxesSubplot: xlabel='Date'>"
      ]
     },
     "execution_count": 49,
     "metadata": {},
     "output_type": "execute_result"
    },
    {
     "data": {
      "image/png": "[encoded data removed]",
      "text/plain": [
       "<Figure size 640x480 with 1 Axes>"
      ]
     },
     "metadata": {},
     "output_type": "display_data"
    }
   ],
   "source": [
    "(1+daily_return).cumprod().plot() ### compunding return will give much better understanding of stock for a portfolio"
   ]
  },
  {
   "cell_type": "code",
   "execution_count": 50,
   "id": "ed9a3e08-da5b-465f-b31a-28b29dfe9b23",
   "metadata": {
    "tags": []
   },
   "outputs": [],
   "source": [
    "import matplotlib.pyplot as plt"
   ]
  },
  {
   "cell_type": "code",
   "execution_count": 55,
   "id": "5c8ca794-cb61-43bc-be56-31e602977f61",
   "metadata": {
    "tags": []
   },
   "outputs": [
    {
     "data": {
      "text/plain": [
       "<BarContainer object of 3 artists>"
      ]
     },
     "execution_count": 55,
     "metadata": {},
     "output_type": "execute_result"
    },
    {
     "data": {
      "image/png": "[encoded data removed]",
      "text/plain": [
       "<Figure size 640x480 with 1 Axes>"
      ]
     },
     "metadata": {},
     "output_type": "display_data"
    }
   ],
   "source": [
    "fig, ax = plt.subplots()\n",
    "plt.style.available\n",
    "plt.style.use(\"ggplot\")\n",
    "ax.set(title=\"Mean Daily Return of Stocks\", xlabel=\"Stock\", ylabel=\"Mean Return\")\n",
    "plt.bar(x=daily_return.columns, height=daily_return.mean(), color=['RED',\"blue\",'green'])"
   ]
  }
 ],
 "metadata": {
  "kernelspec": {
   "display_name": "Python 3 (ipykernel)",
   "language": "python",
   "name": "python3"
  },
  "language_info": {
   "codemirror_mode": {
    "name": "ipython",
    "version": 3
   },
   "file_extension": ".py",
   "mimetype": "text/x-python",
   "name": "python",
   "nbconvert_exporter": "python",
   "pygments_lexer": "ipython3",
   "version": "3.10.9"
  }
 },
 "nbformat": 4,
 "nbformat_minor": 5
}
